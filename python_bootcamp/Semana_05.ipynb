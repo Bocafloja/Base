{
 "cells": [
  {
   "cell_type": "markdown",
   "metadata": {},
   "source": [
    "# Creando y llamando funciones"
   ]
  },
  {
   "cell_type": "code",
   "execution_count": 1,
   "metadata": {},
   "outputs": [
    {
     "name": "stdout",
     "output_type": "stream",
     "text": [
      "Nombre: Benito Camelo\n",
      "Edad: NN\n",
      "Nombre: Benito Camelo\n",
      "Edad: NN\n"
     ]
    }
   ],
   "source": [
    "#Escribiendo funciones:\n",
    "def imprimirInfo():\n",
    "    print('Nombre: Benito Camelo')\n",
    "    print('Edad: NN')\n",
    "\n",
    "imprimirInfo()\n",
    "imprimirInfo()\n",
    "    "
   ]
  },
  {
   "cell_type": "code",
   "execution_count": 2,
   "metadata": {},
   "outputs": [
    {
     "name": "stdout",
     "output_type": "stream",
     "text": [
      "15\n"
     ]
    }
   ],
   "source": [
    "#Cálculos:\n",
    "def calc():\n",
    "    x, y = 5, 10\n",
    "    print(x + y)\n",
    "calc()"
   ]
  },
  {
   "cell_type": "markdown",
   "metadata": {},
   "source": [
    "# Parámetros"
   ]
  },
  {
   "cell_type": "code",
   "execution_count": 4,
   "metadata": {},
   "outputs": [
    {
     "name": "stdout",
     "output_type": "stream",
     "text": [
      "Area: 12.56\n"
     ]
    }
   ],
   "source": [
    "#Parámetros constántes:\n",
    "def AreaCirc(r, pi=3.14):\n",
    "    area = pi*(r**2)\n",
    "    print('Area: {}'.format(area))\n",
    "AreaCirc(2)"
   ]
  },
  {
   "cell_type": "code",
   "execution_count": 7,
   "metadata": {},
   "outputs": [
    {
     "name": "stdout",
     "output_type": "stream",
     "text": [
      "Chumpame Esetrozo Sudado\n",
      "Benito Camelo\n"
     ]
    }
   ],
   "source": [
    "#Parámetros opcionales:\n",
    "#El que se declara vacío es opcional de entregarse a la función cuando ésta se llama\n",
    "def ImprNombre(nombre1, apellido, nombre2=''):\n",
    "    if nombre2:\n",
    "        print('{} {} {}'.format(nombre1, nombre2, apellido))\n",
    "    else:\n",
    "        print('{} {}'.format(nombre1, apellido))\n",
    "\n",
    "ImprNombre('Chumpame', 'Sudado', 'Esetrozo')\n",
    "ImprNombre('Benito', 'Camelo')"
   ]
  },
  {
   "cell_type": "code",
   "execution_count": 8,
   "metadata": {},
   "outputs": [
    {
     "name": "stdout",
     "output_type": "stream",
     "text": [
      "<class 'tuple'>\n",
      "5\n",
      "False\n",
      "Pelúas\n"
     ]
    }
   ],
   "source": [
    "#Uso de *args en funciones:\n",
    "def outputData(name, *args):\n",
    "    print(type(args))\n",
    "    for arg in args:\n",
    "        print(arg)\n",
    "\n",
    "outputData('Tus Nalgas', 5, False, 'Pelúas')"
   ]
  },
  {
   "cell_type": "code",
   "execution_count": 9,
   "metadata": {},
   "outputs": [
    {
     "name": "stdout",
     "output_type": "stream",
     "text": [
      "<class 'dict'>\n",
      "Pedro Perdido\n",
      "5\n"
     ]
    }
   ],
   "source": [
    "#Uso de **kwargs en funcion para sacar valores de un diccionario:\n",
    "def outputData(**kwargs):\n",
    "    print(type(kwargs))\n",
    "    print(kwargs['name'])\n",
    "    print(kwargs['num'])\n",
    "\n",
    "outputData(name = 'Pedro Perdido', num = 5, b = False)"
   ]
  },
  {
   "cell_type": "code",
   "execution_count": 11,
   "metadata": {},
   "outputs": [
    {
     "data": {
      "text/plain": [
       "False"
      ]
     },
     "execution_count": 11,
     "metadata": {},
     "output_type": "execute_result"
    }
   ],
   "source": [
    "def firstUpper(word):\n",
    "    return (word[0]==word[0].upper())\n",
    "\n",
    "firstUpper('perro')"
   ]
  },
  {
   "cell_type": "markdown",
   "metadata": {},
   "source": [
    "# Scope."
   ]
  },
  {
   "cell_type": "code",
   "execution_count": 13,
   "metadata": {},
   "outputs": [
    {
     "ename": "UnboundLocalError",
     "evalue": "local variable 'numero' referenced before assignment",
     "output_type": "error",
     "traceback": [
      "\u001b[0;31m---------------------------------------------------------------------------\u001b[0m",
      "\u001b[0;31mUnboundLocalError\u001b[0m                         Traceback (most recent call last)",
      "\u001b[0;32m<ipython-input-13-e811e23a9642>\u001b[0m in \u001b[0;36m<module>\u001b[0;34m\u001b[0m\n\u001b[1;32m      3\u001b[0m \u001b[0;32mdef\u001b[0m \u001b[0mscopeTest\u001b[0m\u001b[0;34m(\u001b[0m\u001b[0;34m)\u001b[0m\u001b[0;34m:\u001b[0m\u001b[0;34m\u001b[0m\u001b[0;34m\u001b[0m\u001b[0m\n\u001b[1;32m      4\u001b[0m     \u001b[0mnumero\u001b[0m \u001b[0;34m+=\u001b[0m\u001b[0;36m1\u001b[0m\u001b[0;34m\u001b[0m\u001b[0;34m\u001b[0m\u001b[0m\n\u001b[0;32m----> 5\u001b[0;31m \u001b[0mscopeTest\u001b[0m\u001b[0;34m(\u001b[0m\u001b[0;34m)\u001b[0m\u001b[0;34m\u001b[0m\u001b[0;34m\u001b[0m\u001b[0m\n\u001b[0m",
      "\u001b[0;32m<ipython-input-13-e811e23a9642>\u001b[0m in \u001b[0;36mscopeTest\u001b[0;34m()\u001b[0m\n\u001b[1;32m      2\u001b[0m \u001b[0mnumero\u001b[0m \u001b[0;34m=\u001b[0m \u001b[0;36m5\u001b[0m\u001b[0;34m\u001b[0m\u001b[0;34m\u001b[0m\u001b[0m\n\u001b[1;32m      3\u001b[0m \u001b[0;32mdef\u001b[0m \u001b[0mscopeTest\u001b[0m\u001b[0;34m(\u001b[0m\u001b[0;34m)\u001b[0m\u001b[0;34m:\u001b[0m\u001b[0;34m\u001b[0m\u001b[0;34m\u001b[0m\u001b[0m\n\u001b[0;32m----> 4\u001b[0;31m     \u001b[0mnumero\u001b[0m \u001b[0;34m+=\u001b[0m\u001b[0;36m1\u001b[0m\u001b[0;34m\u001b[0m\u001b[0;34m\u001b[0m\u001b[0m\n\u001b[0m\u001b[1;32m      5\u001b[0m \u001b[0mscopeTest\u001b[0m\u001b[0;34m(\u001b[0m\u001b[0;34m)\u001b[0m\u001b[0;34m\u001b[0m\u001b[0;34m\u001b[0m\u001b[0m\n",
      "\u001b[0;31mUnboundLocalError\u001b[0m: local variable 'numero' referenced before assignment"
     ]
    }
   ],
   "source": [
    "#Variable global:\n",
    "numero = 5\n",
    "def scopeTest():  \n",
    "    numero +=1  #numero no es accesible desde adentro de la función\n",
    "scopeTest()"
   ]
  },
  {
   "cell_type": "code",
   "execution_count": 14,
   "metadata": {},
   "outputs": [
    {
     "name": "stdout",
     "output_type": "stream",
     "text": [
      "función\n"
     ]
    }
   ],
   "source": [
    "#Accediendo a variables definidas en una función:\n",
    "def scopeTest():\n",
    "    palabra = 'función'\n",
    "    return palabra\n",
    "valor = scopeTest()\n",
    "print(valor)"
   ]
  },
  {
   "cell_type": "code",
   "execution_count": 16,
   "metadata": {},
   "outputs": [
    {
     "name": "stdout",
     "output_type": "stream",
     "text": [
      "Antes de alterar: ['basquet', 'futbol', 'hockey', 'baseball']\n",
      "Despues de alterar: ['soccer', 'futbol', 'hockey', 'baseball']\n"
     ]
    }
   ],
   "source": [
    "#Cambiando valores de una lista:\n",
    "deportes = ['basquet', 'futbol', 'hockey', 'baseball']\n",
    "def cambio(aList):\n",
    "    aList[0] = 'soccer'\n",
    "print('Antes de alterar: {}'.format(deportes))\n",
    "cambio(deportes)\n",
    "print('Despues de alterar: {}'.format(deportes))"
   ]
  },
  {
   "cell_type": "markdown",
   "metadata": {},
   "source": [
    "# Haciendo el carro de compras"
   ]
  },
  {
   "cell_type": "code",
   "execution_count": 24,
   "metadata": {},
   "outputs": [
    {
     "name": "stdout",
     "output_type": "stream",
     "text": [
      "El carro está vacío, como tu corazón\n"
     ]
    }
   ],
   "source": [
    "#importando funciones\n",
    "from IPython.display import clear_output\n",
    "\n",
    "#Variable global\n",
    "cart = []\n",
    "\n",
    "#función para añadir cosas al carro:\n",
    "def addItem(item):\n",
    "    clear_output()\n",
    "    cart.append(item)\n",
    "    print('{} ha sido añadido.'.format(item))\n",
    "    \n",
    "#Función para quitar cosas del carro:\n",
    "def removeItem(item):\n",
    "    clear_output()\n",
    "    try:\n",
    "        cart.remove(item)\n",
    "        print('{} ha sido eliminado.'.format(item))\n",
    "    except:\n",
    "        print('No se pudo eliminar.')\n",
    "\n",
    "#Función para mostrar las cosas en el carro\n",
    "def showCart():\n",
    "    clear_output()\n",
    "    if cart:\n",
    "        print('Éste es tu carro:')\n",
    "        for item in cart:\n",
    "            print('- {}'.format(item))\n",
    "    else:\n",
    "        print('El carro está vacío, como tu corazón')\n",
    "        \n",
    "#Función para limpiar el carro:\n",
    "def clearCart():\n",
    "    clear_output()\n",
    "    cart.clear()\n",
    "    print('El carro está limpio.')\n",
    "        \n",
    "#Función main que hace el bucle hasta que el usuario lo cierre\n",
    "def main():\n",
    "    hecho = False\n",
    "    \n",
    "    while not hecho:\n",
    "        entrada = input('Quitar/Añadir/Mostrar/Limpiar/Cerrar: ').lower()\n",
    "        \n",
    "        #caso base\n",
    "        if entrada == 'cerrar':\n",
    "            print('Cerrando aplicación')\n",
    "            showCart()\n",
    "            hecho = True\n",
    "        elif entrada == 'añadir':\n",
    "            item = input('¿Qué quiere añadir? ').title()\n",
    "            addItem(item)\n",
    "        elif entrada == 'quitar':\n",
    "            showCart()\n",
    "            item = input('¿Qué item quiere quitar? ').title()\n",
    "            removeItem(item)\n",
    "        elif entrada == 'mostrar':\n",
    "            showCart()\n",
    "        elif entrada == 'limpiar':\n",
    "            clearCart()\n",
    "        else:\n",
    "            print('Esa no es una opción')\n",
    "            \n",
    "main() #Correr el programa\n",
    "        \n",
    "        \n"
   ]
  }
 ],
 "metadata": {
  "kernelspec": {
   "display_name": "Python 3",
   "language": "python",
   "name": "python3"
  },
  "language_info": {
   "codemirror_mode": {
    "name": "ipython",
    "version": 3
   },
   "file_extension": ".py",
   "mimetype": "text/x-python",
   "name": "python",
   "nbconvert_exporter": "python",
   "pygments_lexer": "ipython3",
   "version": "3.7.6"
  }
 },
 "nbformat": 4,
 "nbformat_minor": 4
}
