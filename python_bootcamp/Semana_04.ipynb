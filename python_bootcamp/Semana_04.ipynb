{
 "cells": [
  {
   "cell_type": "markdown",
   "metadata": {},
   "source": [
    "# Listas"
   ]
  },
  {
   "cell_type": "code",
   "execution_count": 1,
   "metadata": {},
   "outputs": [
    {
     "name": "stdout",
     "output_type": "stream",
     "text": [
      "[5, 10, 15.2, 20]\n"
     ]
    }
   ],
   "source": [
    "#Declarando listas:\n",
    "nums = [5, 10, 15.2, 20]\n",
    "print(nums)"
   ]
  },
  {
   "cell_type": "code",
   "execution_count": 2,
   "metadata": {},
   "outputs": [
    {
     "name": "stdout",
     "output_type": "stream",
     "text": [
      "10\n",
      "15.2\n"
     ]
    }
   ],
   "source": [
    "#Accediendo a los elementos de una lista:\n",
    "print(nums[1])\n",
    "num = nums[2]\n",
    "print(num)"
   ]
  },
  {
   "cell_type": "code",
   "execution_count": 3,
   "metadata": {},
   "outputs": [
    {
     "name": "stdout",
     "output_type": "stream",
     "text": [
      "[4.3, 'palabra', True]\n"
     ]
    }
   ],
   "source": [
    "#Guardando diferentes tipos de datos\n",
    "num = 4.3\n",
    "data = [num, 'palabra', True]\n",
    "print(data)"
   ]
  },
  {
   "cell_type": "code",
   "execution_count": 4,
   "metadata": {},
   "outputs": [
    {
     "name": "stdout",
     "output_type": "stream",
     "text": [
      "[5, 'libro', [34, 'Hola'], True]\n",
      "[34, 'Hola']\n"
     ]
    }
   ],
   "source": [
    "#Listas en listas:\n",
    "data = [5, 'libro', [34, 'Hola'], True]\n",
    "print(data)\n",
    "print(data[2])"
   ]
  },
  {
   "cell_type": "code",
   "execution_count": 5,
   "metadata": {},
   "outputs": [
    {
     "name": "stdout",
     "output_type": "stream",
     "text": [
      "[5, 'libro', [34, 'Hola'], True]\n",
      "H\n",
      "Hola\n"
     ]
    }
   ],
   "source": [
    "#Accediendo a listas en listas:\n",
    "print(data)\n",
    "print(data[2][1][0])\n",
    "lista_interna = data[2]\n",
    "print(lista_interna[1])"
   ]
  },
  {
   "cell_type": "code",
   "execution_count": 6,
   "metadata": {},
   "outputs": [
    {
     "name": "stdout",
     "output_type": "stream",
     "text": [
      "[5, 10, 15, 20]\n",
      "[100, 10, 15, 20]\n"
     ]
    }
   ],
   "source": [
    "#Cambiando valores en una lista \n",
    "data = [5, 10, 15, 20]\n",
    "print(data)\n",
    "data[0] = 100\n",
    "print(data)"
   ]
  },
  {
   "cell_type": "code",
   "execution_count": 7,
   "metadata": {},
   "outputs": [
    {
     "name": "stdout",
     "output_type": "stream",
     "text": [
      "139978872448416\n"
     ]
    }
   ],
   "source": [
    "a = [5, 10]\n",
    "print(id(a))"
   ]
  },
  {
   "cell_type": "code",
   "execution_count": 8,
   "metadata": {},
   "outputs": [
    {
     "name": "stdout",
     "output_type": "stream",
     "text": [
      "a: [5, 10]\t b: [5, 10]\n",
      "Location a[0] 94263879496576\t Location b[0]: 94263879496576\n",
      "a: [20, 10]\t b: [20, 10]\n"
     ]
    }
   ],
   "source": [
    "#Entendiendo cómo se almacenan las listas:\n",
    "a = [5, 10]\n",
    "b = a\n",
    "print('a: {}\\t b: {}'.format(a, b))\n",
    "print('Location a[0] {}\\t Location b[0]: {}'.format(id(a[0]), id(b[0])))\n",
    "a[0] = 20\n",
    "print('a: {}\\t b: {}'.format(a, b))"
   ]
  },
  {
   "cell_type": "code",
   "execution_count": 9,
   "metadata": {},
   "outputs": [
    {
     "name": "stdout",
     "output_type": "stream",
     "text": [
      "data: [50, 10, 15, 20]\t copy_data: [5, 10, 15, 20]\n"
     ]
    }
   ],
   "source": [
    "#Copiando una lista:\n",
    "data = [5, 10, 15, 20]\n",
    "#copy_data = data [:]\n",
    "copy_data = data.copy()\n",
    "data[0] = 50\n",
    "print('data: {}\\t copy_data: {}'.format(data, copy_data))"
   ]
  },
  {
   "cell_type": "markdown",
   "metadata": {},
   "source": [
    "# Ciclos for"
   ]
  },
  {
   "cell_type": "code",
   "execution_count": 10,
   "metadata": {},
   "outputs": [
    {
     "name": "stdout",
     "output_type": "stream",
     "text": [
      "Valor : 0\n",
      "Valor : 1\n",
      "Valor : 2\n",
      "Valor : 3\n",
      "Valor : 4\n"
     ]
    }
   ],
   "source": [
    "for num in range(5):\n",
    "    print('Valor : {}'.format(num))"
   ]
  },
  {
   "cell_type": "code",
   "execution_count": 11,
   "metadata": {},
   "outputs": [
    {
     "name": "stdout",
     "output_type": "stream",
     "text": [
      "HELLO"
     ]
    }
   ],
   "source": [
    "s = 'steganograpHy is the practicE of conceaLing a file, message, image, or video within another fiLe, message, image, Or video.'\n",
    "\n",
    "# print all the uppercase letters in s, one at a time\n",
    "for char in s:\n",
    "    if char.isupper():\n",
    "        print(char, end='')    "
   ]
  },
  {
   "cell_type": "code",
   "execution_count": 12,
   "metadata": {},
   "outputs": [
    {
     "data": {
      "text/plain": [
       "[0, 1, 4, 9, 16, 25, 36, 49, 64, 81]"
      ]
     },
     "execution_count": 12,
     "metadata": {},
     "output_type": "execute_result"
    }
   ],
   "source": [
    "cuadrados = [n**2 for n in range(10)]\n",
    "cuadrados"
   ]
  },
  {
   "cell_type": "code",
   "execution_count": null,
   "metadata": {},
   "outputs": [],
   "source": [
    "texto = input('Ingrese texto:').lower()\n",
    "vocales = [letra for letra in texto if letra in ['a', 'e', 'i', 'o', 'u']]\n",
    "vocales"
   ]
  },
  {
   "cell_type": "code",
   "execution_count": null,
   "metadata": {},
   "outputs": [],
   "source": [
    "divisible_3 = [num+1 for num in range(100) if (((num+1)%3) == 0)] \n",
    "for i in divisible_3[:-1]:\n",
    "    print(i, end=' - ')\n",
    "print(divisible_3[-1])"
   ]
  },
  {
   "cell_type": "markdown",
   "metadata": {},
   "source": [
    "# Bucle While"
   ]
  },
  {
   "cell_type": "code",
   "execution_count": null,
   "metadata": {},
   "outputs": [],
   "source": [
    "#Se repite el ciclo mientras haya vida\n",
    "salud = 10\n",
    "while salud > 0:\n",
    "    print(salud)\n",
    "    salud -= 1"
   ]
  },
  {
   "cell_type": "code",
   "execution_count": null,
   "metadata": {},
   "outputs": [],
   "source": [
    "#Pide entradas hasta que le metas 'quit'\n",
    "inp = ''\n",
    "while inp != 'quit':\n",
    "    inp = input('Input: ')"
   ]
  },
  {
   "cell_type": "code",
   "execution_count": null,
   "metadata": {},
   "outputs": [],
   "source": [
    "#añadiendo un valor al inicio de una lista\n",
    "palabras = ['burro', 'muñeca', 'puerca']\n",
    "palabras.insert(0, 'marrano')\n",
    "palabras"
   ]
  },
  {
   "cell_type": "code",
   "execution_count": null,
   "metadata": {},
   "outputs": [],
   "source": [
    "#guardar lo que se saca de una lista, en otra variable\n",
    "cosas = [5, 'pasto', False]\n",
    "cosa_sacada = cosas.pop(1)\n",
    "cosa_sacada"
   ]
  },
  {
   "cell_type": "code",
   "execution_count": null,
   "metadata": {},
   "outputs": [],
   "source": [
    "#uso de min, max y sum:\n",
    "nums = [5, 3, 9]\n",
    "print(min(nums)) #Mínimo\n",
    "print(max(nums)) #Máximo\n",
    "print(sum(nums)) #Suma items de la lista"
   ]
  },
  {
   "cell_type": "code",
   "execution_count": null,
   "metadata": {},
   "outputs": [],
   "source": [
    "#Ordenar items de listas:\n",
    "nums = [5, 8, 0, 2]\n",
    "nums_ordenados = sorted(nums) #sorted() no modifica la list original\n",
    "print(nums, end='\\n')\n",
    "print(nums_ordenados)"
   ]
  },
  {
   "cell_type": "code",
   "execution_count": null,
   "metadata": {},
   "outputs": [],
   "source": [
    "#Ordenando con .sort() :\n",
    "nums = [5, 0, 8, 3]\n",
    "nums.sort()\n",
    "nums"
   ]
  },
  {
   "cell_type": "code",
   "execution_count": null,
   "metadata": {},
   "outputs": [],
   "source": [
    "#Comprobar lista vacía:\n",
    "nums = []\n",
    "if not nums:\n",
    "    print('Vacía')"
   ]
  },
  {
   "cell_type": "code",
   "execution_count": null,
   "metadata": {},
   "outputs": [],
   "source": [
    "#Imprimir los items de una lista\n",
    "deportes = ['valer verga', 'ser cachón', 'tirar paja', 'pegarlo']\n",
    "for deporte in deportes:\n",
    "    print(deporte, end='\\n')"
   ]
  },
  {
   "cell_type": "code",
   "execution_count": null,
   "metadata": {},
   "outputs": [],
   "source": [
    "#Removiendo los repetidos:\n",
    "nombres = ['Bob', 'Kenny', 'Amanda', 'Bob', 'Kenny']\n",
    "#for nombre in nombres:\n",
    "#    acum = nombres.count(nombre)\n",
    "#    if acum > 1:\n",
    "#        nombres.remove(nombre)\n",
    "#nombres\n",
    "salida = [nombres.pop(int(nombres.index(nombre))) for nombre in nombres if nombres.count(nombre)!=1]\n",
    "salida"
   ]
  },
  {
   "cell_type": "markdown",
   "metadata": {},
   "source": [
    "# Ahorcado"
   ]
  },
  {
   "cell_type": "code",
   "execution_count": 26,
   "metadata": {},
   "outputs": [
    {
     "name": "stdout",
     "output_type": "stream",
     "text": [
      "Juego Cerrado.\n"
     ]
    }
   ],
   "source": [
    "from random import choice\n",
    "from IPython.display import clear_output\n",
    "\n",
    "\n",
    "#Declarando variables\n",
    "palabras = ['pescado', 'temperatura', 'caballo', 'bailar', 'disfraz']\n",
    "palabra = choice(palabras)\n",
    "intentos, vidas, fin_juego = [], 7, False\n",
    "\n",
    "#Una lista con guiones bajos por cada letra de la palabra\n",
    "intentos = ['_']*len(palabra)\n",
    "erradas = []\n",
    "#Bucle principal\n",
    "while not fin_juego:\n",
    "    #Información de salida\n",
    "    palabra_escondida = ' '.join(intentos)\n",
    "    print('Letras usadas: {}'.format(erradas))\n",
    "    print('Palabra a adivinar: {}'.format(palabra_escondida))\n",
    "    print('Vidas: {}'.format(vidas))\n",
    "    \n",
    "    entrada = input('Ingrese una letra: ').lower()\n",
    "    \n",
    "    clear_output()\n",
    "    \n",
    "    if entrada == 'quit':\n",
    "        print('Juego Cerrado.')\n",
    "        fin_juego = True\n",
    "    elif entrada in palabra: #Chequea si la letra está en la palabra\n",
    "        print('Le pegaste!')\n",
    "    \n",
    "    #Bucle para colocar la letra donde es\n",
    "        for i in range(len(palabra)):\n",
    "            if palabra[i] == entrada: #compara cada letra con la que metiste\n",
    "                intentos[i] = entrada\n",
    "    elif entrada in erradas:\n",
    "        print('Ya esa la metiste, idiota.')\n",
    "    else:\n",
    "        vidas -= 1\n",
    "        print('La cagasten de Bayer.')\n",
    "        erradas.append(entrada)\n",
    "        \n",
    "    if vidas <= 0:\n",
    "        print('Ya paila. Abríte que ya perdiste, gonorrea.')\n",
    "        fin_juego = True\n",
    "    elif palabra == ''.join(intentos):\n",
    "        print('Melo, aivinaste. ¡Te ganaste una cachetada!')\n",
    "        fin_juego = True"
   ]
  },
  {
   "cell_type": "markdown",
   "metadata": {},
   "source": [
    "# Piramide de 'x'"
   ]
  },
  {
   "cell_type": "code",
   "execution_count": 43,
   "metadata": {},
   "outputs": [
    {
     "name": "stdout",
     "output_type": "stream",
     "text": [
      "Ingrese número de filas: 50\n",
      "                                                   \n",
      "                                                  x\n",
      "                                                 x x\n",
      "                                                x x x\n",
      "                                               x x x x\n",
      "                                              x x x x x\n",
      "                                             x x x x x x\n",
      "                                            x x x x x x x\n",
      "                                           x x x x x x x x\n",
      "                                          x x x x x x x x x\n",
      "                                         x x x x x x x x x x\n",
      "                                        x x x x x x x x x x x\n",
      "                                       x x x x x x x x x x x x\n",
      "                                      x x x x x x x x x x x x x\n",
      "                                     x x x x x x x x x x x x x x\n",
      "                                    x x x x x x x x x x x x x x x\n",
      "                                   x x x x x x x x x x x x x x x x\n",
      "                                  x x x x x x x x x x x x x x x x x\n",
      "                                 x x x x x x x x x x x x x x x x x x\n",
      "                                x x x x x x x x x x x x x x x x x x x\n",
      "                               x x x x x x x x x x x x x x x x x x x x\n",
      "                              x x x x x x x x x x x x x x x x x x x x x\n",
      "                             x x x x x x x x x x x x x x x x x x x x x x\n",
      "                            x x x x x x x x x x x x x x x x x x x x x x x\n",
      "                           x x x x x x x x x x x x x x x x x x x x x x x x\n",
      "                          x x x x x x x x x x x x x x x x x x x x x x x x x\n",
      "                         x x x x x x x x x x x x x x x x x x x x x x x x x x\n",
      "                        x x x x x x x x x x x x x x x x x x x x x x x x x x x\n",
      "                       x x x x x x x x x x x x x x x x x x x x x x x x x x x x\n",
      "                      x x x x x x x x x x x x x x x x x x x x x x x x x x x x x\n",
      "                     x x x x x x x x x x x x x x x x x x x x x x x x x x x x x x\n",
      "                    x x x x x x x x x x x x x x x x x x x x x x x x x x x x x x x\n",
      "                   x x x x x x x x x x x x x x x x x x x x x x x x x x x x x x x x\n",
      "                  x x x x x x x x x x x x x x x x x x x x x x x x x x x x x x x x x\n",
      "                 x x x x x x x x x x x x x x x x x x x x x x x x x x x x x x x x x x\n",
      "                x x x x x x x x x x x x x x x x x x x x x x x x x x x x x x x x x x x\n",
      "               x x x x x x x x x x x x x x x x x x x x x x x x x x x x x x x x x x x x\n",
      "              x x x x x x x x x x x x x x x x x x x x x x x x x x x x x x x x x x x x x\n",
      "             x x x x x x x x x x x x x x x x x x x x x x x x x x x x x x x x x x x x x x\n",
      "            x x x x x x x x x x x x x x x x x x x x x x x x x x x x x x x x x x x x x x x\n",
      "           x x x x x x x x x x x x x x x x x x x x x x x x x x x x x x x x x x x x x x x x\n",
      "          x x x x x x x x x x x x x x x x x x x x x x x x x x x x x x x x x x x x x x x x x\n",
      "         x x x x x x x x x x x x x x x x x x x x x x x x x x x x x x x x x x x x x x x x x x\n",
      "        x x x x x x x x x x x x x x x x x x x x x x x x x x x x x x x x x x x x x x x x x x x\n",
      "       x x x x x x x x x x x x x x x x x x x x x x x x x x x x x x x x x x x x x x x x x x x x\n",
      "      x x x x x x x x x x x x x x x x x x x x x x x x x x x x x x x x x x x x x x x x x x x x x\n",
      "     x x x x x x x x x x x x x x x x x x x x x x x x x x x x x x x x x x x x x x x x x x x x x x\n",
      "    x x x x x x x x x x x x x x x x x x x x x x x x x x x x x x x x x x x x x x x x x x x x x x x\n",
      "   x x x x x x x x x x x x x x x x x x x x x x x x x x x x x x x x x x x x x x x x x x x x x x x x\n",
      "  x x x x x x x x x x x x x x x x x x x x x x x x x x x x x x x x x x x x x x x x x x x x x x x x x\n",
      " x x x x x x x x x x x x x x x x x x x x x x x x x x x x x x x x x x x x x x x x x x x x x x x x x x\n"
     ]
    }
   ],
   "source": [
    "filas = int(input('Ingrese número de filas: ')) + 1\n",
    "for i in range(filas):    \n",
    "    exes = 'x'*i\n",
    "    fila = ' '.join(exes)\n",
    "    print(' '*(filas-i), end='')\n",
    "    print(fila, end='\\n')\n"
   ]
  },
  {
   "cell_type": "code",
   "execution_count": null,
   "metadata": {},
   "outputs": [],
   "source": []
  }
 ],
 "metadata": {
  "kernelspec": {
   "display_name": "Python 3",
   "language": "python",
   "name": "python3"
  },
  "language_info": {
   "codemirror_mode": {
    "name": "ipython",
    "version": 3
   },
   "file_extension": ".py",
   "mimetype": "text/x-python",
   "name": "python",
   "nbconvert_exporter": "python",
   "pygments_lexer": "ipython3",
   "version": "3.7.6"
  }
 },
 "nbformat": 4,
 "nbformat_minor": 4
}
