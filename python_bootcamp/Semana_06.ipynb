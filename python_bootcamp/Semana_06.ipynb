{
 "cells": [
  {
   "cell_type": "markdown",
   "metadata": {},
   "source": [
    "# Diccionarios"
   ]
  },
  {
   "cell_type": "code",
   "execution_count": 1,
   "metadata": {},
   "outputs": [
    {
     "name": "stdout",
     "output_type": "stream",
     "text": [
      "{'nombre': 'Morty', 'edad': 26}\n"
     ]
    }
   ],
   "source": [
    "#Declarando un diccionario:\n",
    "vacio = {} #diccionario vacío\n",
    "\n",
    "persona = {'nombre':'Juan Pegao'} #con un solo par key/value\n",
    "\n",
    "cliente = {\n",
    "    'nombre':'Morty',\n",
    "    'edad':26\n",
    "}   #Con dos pares key/value\n",
    "print(cliente)"
   ]
  },
  {
   "cell_type": "code",
   "execution_count": 2,
   "metadata": {},
   "outputs": [
    {
     "name": "stdout",
     "output_type": "stream",
     "text": [
      "Juancho\n"
     ]
    }
   ],
   "source": [
    "#Accediendo a la información en un diccionario\n",
    "persona = {'nombre':'Juancho'}\n",
    "print(persona['nombre'])"
   ]
  },
  {
   "cell_type": "code",
   "execution_count": 3,
   "metadata": {},
   "outputs": [
    {
     "name": "stdout",
     "output_type": "stream",
     "text": [
      "Juan\n",
      "Edad no disponible.\n"
     ]
    }
   ],
   "source": [
    "#Usando get() para acceder a la información de un diccionario\n",
    "persona = {'nombre':'Juan'}\n",
    "print(persona.get('nombre')) #Entrega el valor de la key 'nombre'\n",
    "print(persona.get('edad','Edad no disponible.')) #Si no existe, no tira error y manda el mensaje"
   ]
  },
  {
   "cell_type": "code",
   "execution_count": 5,
   "metadata": {},
   "outputs": [
    {
     "data": {
      "text/plain": [
       "'baseball'"
      ]
     },
     "execution_count": 5,
     "metadata": {},
     "output_type": "execute_result"
    }
   ],
   "source": [
    "#Listas en diccionarios\n",
    "datos = {'deportes':['baseball', 'futbol', 'hockey', 'soccer']}\n",
    "datos['deportes'][0] #Primero la key, luego la posición en la lista"
   ]
  },
  {
   "cell_type": "code",
   "execution_count": 7,
   "metadata": {},
   "outputs": [
    {
     "name": "stdout",
     "output_type": "stream",
     "text": [
      "{'name': 'Kirsten'}\n",
      "Kirsten\n"
     ]
    }
   ],
   "source": [
    "#Diccionarios en listas\n",
    "datos = ['Juan', 'Dennis', {'name':'Kirsten'}]\n",
    "print(datos[2])\n",
    "print(datos[2]['name'])"
   ]
  },
  {
   "cell_type": "code",
   "execution_count": 8,
   "metadata": {},
   "outputs": [
    {
     "name": "stdout",
     "output_type": "stream",
     "text": [
      "{'2018': 108, '2017': 93}\n",
      "108\n"
     ]
    }
   ],
   "source": [
    "#Diccionarios en diccionarios\n",
    "datos = {\n",
    "    'equipo':'Boston Medias Rojas',\n",
    "    'victorias':{'2018':108, '2017':93}\n",
    "}\n",
    "print(datos['victorias'])\n",
    "print(datos['victorias']['2018'])"
   ]
  },
  {
   "cell_type": "markdown",
   "metadata": {},
   "source": [
    "# Trabajando con diccionarios"
   ]
  },
  {
   "cell_type": "code",
   "execution_count": 9,
   "metadata": {},
   "outputs": [
    {
     "name": "stdout",
     "output_type": "stream",
     "text": [
      "Año: 2018\t Color: Azul\n"
     ]
    }
   ],
   "source": [
    "#Añadiendo nuevo par key/value\n",
    "car = {'año':2018}\n",
    "car['color'] = 'Azul'\n",
    "print('Año: {}\\t Color: {}'.format(car['año'], car['color']))"
   ]
  },
  {
   "cell_type": "code",
   "execution_count": 10,
   "metadata": {},
   "outputs": [
    {
     "name": "stdout",
     "output_type": "stream",
     "text": [
      "Año: 2018\t Color: Rojo\n"
     ]
    }
   ],
   "source": [
    "#Cambiando un par key/value que ya existe\n",
    "car = {'año': 2018, 'color':'Azul'}\n",
    "car['color'] = 'Rojo'\n",
    "print('Año: {}\\t Color: {}'.format(car['año'], car['color']))"
   ]
  },
  {
   "cell_type": "code",
   "execution_count": 6,
   "metadata": {},
   "outputs": [
    {
     "name": "stdout",
     "output_type": "stream",
     "text": [
      "{}\n"
     ]
    }
   ],
   "source": [
    "#Borrando un par key/value \n",
    "car = {'año':2018}\n",
    "try:\n",
    "    del car['año']\n",
    "    print(car)\n",
    "except:\n",
    "    print('No existe')"
   ]
  },
  {
   "cell_type": "code",
   "execution_count": 13,
   "metadata": {},
   "outputs": [
    {
     "name": "stdout",
     "output_type": "stream",
     "text": [
      "nombre\n",
      "Juan\n",
      "edad\n",
      "26\n"
     ]
    }
   ],
   "source": [
    "#Bucles en diccionarios usando SOLO KEYS\n",
    "persona = {'nombre':'Juan', 'edad':26}\n",
    "for key in persona.keys():\n",
    "    print(key) #Muestra la key\n",
    "    print(persona[key]) #Muestra el value de esa key"
   ]
  },
  {
   "cell_type": "code",
   "execution_count": 16,
   "metadata": {},
   "outputs": [
    {
     "name": "stdout",
     "output_type": "stream",
     "text": [
      "Juan\n",
      "26\n"
     ]
    }
   ],
   "source": [
    "#Bucles en diccionarios usando SOLO VALUES\n",
    "persona = {'name':'Juan', 'edad':26}\n",
    "for value in persona.values():\n",
    "    print(value)"
   ]
  },
  {
   "cell_type": "code",
   "execution_count": 17,
   "metadata": {},
   "outputs": [
    {
     "name": "stdout",
     "output_type": "stream",
     "text": [
      "name:Juan\n",
      "edad:26\n"
     ]
    }
   ],
   "source": [
    "#Bucles en diccionarios usando VALUES Y KEYS\n",
    "persona = {'name':'Juan', 'edad':26}\n",
    "for key, value in persona.items():\n",
    "    print('{}:{}'.format(key, value))"
   ]
  },
  {
   "cell_type": "markdown",
   "metadata": {},
   "source": [
    "# Tuplas, Sets, Frozensets"
   ]
  },
  {
   "cell_type": "code",
   "execution_count": 19,
   "metadata": {},
   "outputs": [
    {
     "name": "stdout",
     "output_type": "stream",
     "text": [
      "<class 'tuple'> <class 'tuple'>\n"
     ]
    },
    {
     "ename": "TypeError",
     "evalue": "'tuple' object does not support item assignment",
     "output_type": "error",
     "traceback": [
      "\u001b[0;31m---------------------------------------------------------------------------\u001b[0m",
      "\u001b[0;31mTypeError\u001b[0m                                 Traceback (most recent call last)",
      "\u001b[0;32m<ipython-input-19-e98e0f5886f0>\u001b[0m in \u001b[0;36m<module>\u001b[0;34m\u001b[0m\n\u001b[1;32m      3\u001b[0m \u001b[0mt2\u001b[0m \u001b[0;34m=\u001b[0m \u001b[0;32mTrue\u001b[0m\u001b[0;34m,\u001b[0m \u001b[0;36m1\u001b[0m    \u001b[0;31m#Sin paréntesis\u001b[0m\u001b[0;34m\u001b[0m\u001b[0;34m\u001b[0m\u001b[0m\n\u001b[1;32m      4\u001b[0m \u001b[0mprint\u001b[0m\u001b[0;34m(\u001b[0m\u001b[0mtype\u001b[0m\u001b[0;34m(\u001b[0m\u001b[0mt1\u001b[0m\u001b[0;34m)\u001b[0m\u001b[0;34m,\u001b[0m \u001b[0mtype\u001b[0m\u001b[0;34m(\u001b[0m\u001b[0mt2\u001b[0m\u001b[0;34m)\u001b[0m\u001b[0;34m)\u001b[0m\u001b[0;34m\u001b[0m\u001b[0;34m\u001b[0m\u001b[0m\n\u001b[0;32m----> 5\u001b[0;31m \u001b[0mt1\u001b[0m\u001b[0;34m[\u001b[0m\u001b[0;36m0\u001b[0m\u001b[0;34m]\u001b[0m \u001b[0;34m=\u001b[0m \u001b[0;36m1\u001b[0m                     \u001b[0;31m#Se putea porque no se puede modificar\u001b[0m\u001b[0;34m\u001b[0m\u001b[0;34m\u001b[0m\u001b[0m\n\u001b[0m",
      "\u001b[0;31mTypeError\u001b[0m: 'tuple' object does not support item assignment"
     ]
    }
   ],
   "source": [
    "#Declarando una tupla:\n",
    "t1 = ('hola', 2, 'hola') #Con paréntesis\n",
    "t2 = True, 1    #Sin paréntesis\n",
    "print(type(t1), type(t2))\n",
    "t1[0] = 1                     #Se putea porque no se puede modificar"
   ]
  },
  {
   "cell_type": "code",
   "execution_count": 22,
   "metadata": {},
   "outputs": [
    {
     "name": "stdout",
     "output_type": "stream",
     "text": [
      "{1, 2, 3}\n",
      "{4, 5}\n",
      "<class 'set'> <class 'set'>\n",
      "{2, 3, 5}\n"
     ]
    }
   ],
   "source": [
    "#Los Sets comparten caracteristicas de listas y diccionarios pero los valores son únicos como las keys en diccionarios\n",
    "s1 = set([1, 2, 3, 1])\n",
    "s2 = {4, 4, 5}\n",
    "print(s1)       #Se eliminan los valores repetidos\n",
    "print(s2)\n",
    "print(type(s1), type(s2))\n",
    "s1.add(5)\n",
    "s1.remove(1)\n",
    "print(s1)"
   ]
  },
  {
   "cell_type": "code",
   "execution_count": 1,
   "metadata": {},
   "outputs": [
    {
     "name": "stdout",
     "output_type": "stream",
     "text": [
      "frozenset({1, 2, 3, 4})\n",
      "<class 'frozenset'>\n"
     ]
    }
   ],
   "source": [
    "#Los frozensets son la combinación de un set y una tupla\n",
    "#Son inmutables, desordenados y únicos\n",
    "fset = frozenset([1,2,3,4])\n",
    "print(fset)\n",
    "print(type(fset))"
   ]
  },
  {
   "cell_type": "markdown",
   "metadata": {},
   "source": [
    "# Leyendo y escribiendo archivos"
   ]
  },
  {
   "cell_type": "code",
   "execution_count": 2,
   "metadata": {},
   "outputs": [
    {
     "name": "stdout",
     "output_type": "stream",
     "text": [
      "Ésto es una prueba.\n"
     ]
    }
   ],
   "source": [
    "#Abriendo/Creando y escribiendo en un archivo de texto\n",
    "f = open('test.txt', 'w+') #Abre un archivo en modo lectura y escritura ['w' sobreescribe todo, 'a' para append ]\n",
    "f.write('Ésto es una prueba.')\n",
    "f.close()\n",
    "#Leyendo de un archivo de texto\n",
    "f = open('test.txt', 'r') #Abre un archivo en modo sólo lectura\n",
    "data = f.read()\n",
    "f.close()\n",
    "print(data)"
   ]
  },
  {
   "cell_type": "code",
   "execution_count": 3,
   "metadata": {},
   "outputs": [],
   "source": [
    "#Abriendo/Creando y escribiendo un archio csv\n",
    "import csv\n",
    "with open('test.csv', mode='w', newline='') as f: # Mientras el archivo está abierto hace lo que dice el bloque\n",
    "    escritor = csv.writer(f, delimiter=',')       # Luego se cierra automáticamente cuando se ha ejecutado el bloque\n",
    "    escritor.writerow(['Nombre', 'Ciudad'])       # de código\n",
    "    escritor.writerow(['Craig Lou', 'Taiwan'])\n",
    "    "
   ]
  },
  {
   "cell_type": "code",
   "execution_count": 5,
   "metadata": {},
   "outputs": [
    {
     "name": "stdout",
     "output_type": "stream",
     "text": [
      "['Nombre', 'Ciudad']\n",
      "['Craig Lou', 'Taiwan']\n"
     ]
    }
   ],
   "source": [
    "#Leyendo archivos CSV\n",
    "with open('test.csv', mode='r') as f:\n",
    "    lector = csv.reader(f, delimiter=',')\n",
    "    for fila in lector:\n",
    "        print(fila)\n",
    "    "
   ]
  },
  {
   "cell_type": "code",
   "execution_count": 36,
   "metadata": {},
   "outputs": [
    {
     "name": "stdout",
     "output_type": "stream",
     "text": [
      "['nombre', 'lenguaje']\n",
      "[['David', 'Dennis', 'Peter', 'Jess'], ['Python', 'C', 'Java', 'Python']]\n",
      "[['David', 'Python'], ['Dennis', 'C'], ['Peter', 'Java'], ['Jess', 'Python']]\n"
     ]
    }
   ],
   "source": [
    "datos = {\n",
    "    'Nombre':['David', 'Dennis', 'Peter', 'Jess'],\n",
    "    'Lenguaje': ['Python', 'C', 'Java', 'Python']\n",
    "}\n",
    "\n",
    "llaves = []\n",
    "for key in datos.keys():\n",
    "    llaves.append(key)\n",
    "    \n",
    "valores = []\n",
    "for valor in datos.values():\n",
    "    valores.append(valor)\n",
    "entrada = []  \n",
    "\n",
    "for n in range(len(valores[0])):\n",
    "    vectorcito = []\n",
    "    for a in range(len(valores)):\n",
    "        \n",
    "        vectorcito.append(valores[a][n])\n",
    "    entrada.append(vectorcito)\n",
    "        \n",
    "print(llaves)\n",
    "print(valores)    \n",
    "print(entrada)\n",
    "with open('ejemplo.csv', mode='w', newline='') as f:\n",
    "    escritor = csv.writer(f, delimiter=',')\n",
    "    escritor.writerow(llaves)\n",
    "    for entr in entrada:\n",
    "        escritor.writerow(entr)\n",
    "        \n",
    "        \n",
    "        "
   ]
  },
  {
   "cell_type": "markdown",
   "metadata": {},
   "source": [
    "# Creación de una base de datos de usuario con CSV's"
   ]
  },
  {
   "cell_type": "code",
   "execution_count": 47,
   "metadata": {},
   "outputs": [
    {
     "name": "stdout",
     "output_type": "stream",
     "text": [
      "Gracias por usar este software.\n"
     ]
    }
   ],
   "source": [
    "#importando paquete necesario\n",
    "import csv\n",
    "from IPython.display import clear_output\n",
    "\n",
    "#Funcion de registro de usarios\n",
    "def registroUsuario():\n",
    "    with open('user.csv', mode='a', newline='') as f:\n",
    "        writer = csv.writer(f, delimiter=',')\n",
    "        print('Para registrarse, ingrese la información:')\n",
    "        correo = input('Correo electrónico: ')\n",
    "        contraseña = input('Contraseña: ')\n",
    "        contraseña2 = input('Reescriba la contraseña: ')\n",
    "        clear_output()\n",
    "        if contraseña == contraseña2:\n",
    "            writer.writerow([correo, contraseña])\n",
    "            print('Ahora está registrado.')\n",
    "        else:\n",
    "            print('Algo salió mal.')\n",
    "        \n",
    "#Log in de usuarios ya registrados\n",
    "def loginUsuario():\n",
    "    print('Para entrar ingrese su información.')\n",
    "    correo = input('Correo electrónico: ')\n",
    "    contraseña = input('Contraseña:')\n",
    "    clear_output()\n",
    "    with open('user.csv', mode='r') as f:\n",
    "        reader = csv.reader(f, delimiter=',')\n",
    "        for row in reader:\n",
    "            if row == [correo, contraseña]:\n",
    "                print('Usted está logeado.')\n",
    "                return True\n",
    "    print('Algo salió mal, intentelo de nuevo')\n",
    "    return False\n",
    "\n",
    "def main():\n",
    "    activo = True\n",
    "    logeado = False\n",
    "    \n",
    "    while activo:\n",
    "        if logeado:\n",
    "            print('1. Logout\\n2. Salir')\n",
    "        else: \n",
    "            print('1. Login\\n2. Registrar\\n3. Salir')\n",
    "        eleccion = input('¿Qué desea hacer?\\n').lower()\n",
    "        clear_output()\n",
    "        if (eleccion == 'registrar') and (logeado == False):\n",
    "            registroUsuario()\n",
    "        elif (eleccion == 'login') and (logeado == False):\n",
    "            logeado = loginUsuario()\n",
    "        elif (eleccion == 'logout') and (logeado == True):\n",
    "            logeado = False\n",
    "            print('Usted está deslogeado xD xD')\n",
    "        elif (eleccion == 'salir'):\n",
    "            activo = False\n",
    "            print('Gracias por usar este software.')\n",
    "        else:\n",
    "            print('Algo salió mal, intente de nuevo.')\n",
    "            \n",
    "main()"
   ]
  }
 ],
 "metadata": {
  "kernelspec": {
   "display_name": "Python 3",
   "language": "python",
   "name": "python3"
  },
  "language_info": {
   "codemirror_mode": {
    "name": "ipython",
    "version": 3
   },
   "file_extension": ".py",
   "mimetype": "text/x-python",
   "name": "python",
   "nbconvert_exporter": "python",
   "pygments_lexer": "ipython3",
   "version": "3.7.6"
  }
 },
 "nbformat": 4,
 "nbformat_minor": 4
}
