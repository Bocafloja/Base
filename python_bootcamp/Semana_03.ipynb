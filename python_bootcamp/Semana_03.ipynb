{
 "cells": [
  {
   "cell_type": "markdown",
   "metadata": {},
   "source": [
    "# Entrada de usuario y conversión de clases"
   ]
  },
  {
   "cell_type": "code",
   "execution_count": 7,
   "metadata": {},
   "outputs": [
    {
     "name": "stdout",
     "output_type": "stream",
     "text": [
      "¿cuál es tu nombre? NN\n",
      "NN\n"
     ]
    }
   ],
   "source": [
    "#Imprimiendo la entrada:\n",
    "print(input('¿cuál es tu nombre? '))"
   ]
  },
  {
   "cell_type": "code",
   "execution_count": 8,
   "metadata": {},
   "outputs": [
    {
     "name": "stdout",
     "output_type": "stream",
     "text": [
      "¿cuál es tu nombre? NN\n",
      "¡Hola! NN\n"
     ]
    }
   ],
   "source": [
    "#Guardando la entrada:\n",
    "ans = input('¿cuál es tu nombre? ')\n",
    "print('¡Hola! {}'.format(ans))"
   ]
  },
  {
   "cell_type": "code",
   "execution_count": 9,
   "metadata": {},
   "outputs": [
    {
     "name": "stdout",
     "output_type": "stream",
     "text": [
      "<class 'int'>\n"
     ]
    }
   ],
   "source": [
    "#Cómo chequear la clase de una variable\n",
    "num = 5\n",
    "print(type(num))"
   ]
  },
  {
   "cell_type": "code",
   "execution_count": 10,
   "metadata": {},
   "outputs": [
    {
     "name": "stdout",
     "output_type": "stream",
     "text": [
      "<class 'int'>\n"
     ]
    }
   ],
   "source": [
    "num = '9'\n",
    "num = int(num)\n",
    "print(type(num))"
   ]
  },
  {
   "cell_type": "code",
   "execution_count": 13,
   "metadata": {},
   "outputs": [
    {
     "name": "stdout",
     "output_type": "stream",
     "text": [
      "Inserte número a adicionar: 9\n",
      "<class 'str'>\n",
      "100 + 9 = 109\n"
     ]
    }
   ],
   "source": [
    "#Convirtiendo la entrada del usuario:\n",
    "ans = input('Inserte número a adicionar: ')\n",
    "print(type(ans))\n",
    "resultado = 100 + int(ans)\n",
    "print('100 + {} = {}'.format(ans, resultado))"
   ]
  },
  {
   "cell_type": "markdown",
   "metadata": {},
   "source": [
    "# Manejo de errores"
   ]
  },
  {
   "cell_type": "code",
   "execution_count": 18,
   "metadata": {},
   "outputs": [
    {
     "name": "stdout",
     "output_type": "stream",
     "text": [
      "Introduzca número a adicionar: tres\n",
      "No colocaste un valor válido, ¡careverga!\n"
     ]
    }
   ],
   "source": [
    "# usando los bloques \"try\"/\"except\":\n",
    "try:\n",
    "    ans = float(input('Introduzca número a adicionar: '))\n",
    "    print('100 + {} = {}'.format(ans, 100.0 + ans))\n",
    "except:\n",
    "    print('No colocaste un valor válido, ¡careverga!')\n",
    "\n",
    "#Así se evita que todo el código se putee si alguien mete el dato que no es"
   ]
  },
  {
   "cell_type": "markdown",
   "metadata": {},
   "source": [
    "# Sentencia if"
   ]
  },
  {
   "cell_type": "code",
   "execution_count": 21,
   "metadata": {},
   "outputs": [
    {
     "name": "stdout",
     "output_type": "stream",
     "text": [
      "x es menor que y\n"
     ]
    }
   ],
   "source": [
    "#Uso de la sentencia if:\n",
    "x, y = 5, 10\n",
    "if x < y:\n",
    "    print('x es menor que y')"
   ]
  },
  {
   "cell_type": "code",
   "execution_count": 23,
   "metadata": {},
   "outputs": [
    {
     "name": "stdout",
     "output_type": "stream",
     "text": [
      "¿Qué es 5 + 5? 10\n",
      "¡Correcto!\n"
     ]
    }
   ],
   "source": [
    "#Para chequear entrada de usuario\n",
    "ans = int(input(\"¿Qué es 5 + 5? \"))\n",
    "if ans == 10:\n",
    "    print('¡Correcto!')"
   ]
  },
  {
   "cell_type": "code",
   "execution_count": 24,
   "metadata": {},
   "outputs": [
    {
     "name": "stdout",
     "output_type": "stream",
     "text": [
      "Las dos sentencias son verdaderas.\n"
     ]
    }
   ],
   "source": [
    "#Usando el operador lógico \"and\" en una sentencia if:\n",
    "x, y, z = 5, 10, 5\n",
    "if x < y and x == z:\n",
    "    print('Las dos sentencias son verdaderas.')"
   ]
  },
  {
   "cell_type": "code",
   "execution_count": 25,
   "metadata": {},
   "outputs": [
    {
     "name": "stdout",
     "output_type": "stream",
     "text": [
      "Una de las dos sentencias es verdadera.\n"
     ]
    }
   ],
   "source": [
    "#Usando el operador lógico \"or\" en una sentencia if:\n",
    "x, y, z = 5, 10, 5\n",
    "if x < y or x != z:\n",
    "    print('Una de las dos sentencias es verdadera.')"
   ]
  },
  {
   "cell_type": "code",
   "execution_count": 26,
   "metadata": {},
   "outputs": [
    {
     "name": "stdout",
     "output_type": "stream",
     "text": [
      "La bandera es falsa\n"
     ]
    }
   ],
   "source": [
    "#Usando el operador lógico \"not\" en una sentencia if:\n",
    "bandera = False\n",
    "if not bandera:\n",
    "    print('La bandera es falsa')"
   ]
  },
  {
   "cell_type": "code",
   "execution_count": 28,
   "metadata": {},
   "outputs": [
    {
     "name": "stdout",
     "output_type": "stream",
     "text": [
      "Parangaricutirimicuaro contiene el carácter t\n"
     ]
    }
   ],
   "source": [
    "#Usando el operador \"in\" en una sentencia if:\n",
    "palabra = 'Parangaricutirimicuaro'\n",
    "if 't' in palabra:\n",
    "    print('{} contiene el carácter t'.format(palabra))"
   ]
  },
  {
   "cell_type": "code",
   "execution_count": 29,
   "metadata": {},
   "outputs": [
    {
     "name": "stdout",
     "output_type": "stream",
     "text": [
      "Parangaricutirimicuaro no contiene el carácter b\n"
     ]
    }
   ],
   "source": [
    "#Usando el operador \"not in\" en una sentencia if:\n",
    "if 'b' not in palabra:\n",
    "    print('{} no contiene el carácter b'.format(palabra))"
   ]
  },
  {
   "cell_type": "code",
   "execution_count": 31,
   "metadata": {},
   "outputs": [
    {
     "name": "stdout",
     "output_type": "stream",
     "text": [
      "Ingrese valor de entrada: Pezones\n",
      "\"es\" está en lo ingresado.\n"
     ]
    }
   ],
   "source": [
    "#Chequear si lo escrito contiene un \"es\":\n",
    "palabra = input('Ingrese valor de entrada: ')\n",
    "if 'es' in palabra:\n",
    "    print('\"es\" está en lo ingresado.')\n",
    "    "
   ]
  },
  {
   "cell_type": "code",
   "execution_count": 46,
   "metadata": {},
   "outputs": [
    {
     "name": "stdout",
     "output_type": "stream",
     "text": [
      "Ingrese valor de entrada: Cagando\n",
      "Lo ingresado termina en \"ando\"\n"
     ]
    }
   ],
   "source": [
    "#Chequear si lo escrito termina en \"ando\":\n",
    "palabra = input('Ingrese valor de entrada: ')\n",
    "n = len(palabra)                                 #len() sirve para ver la londitud de una cadena\n",
    "if palabra[n-4:n] == 'ando':\n",
    "    print('Lo ingresado termina en \"ando\"')"
   ]
  },
  {
   "cell_type": "markdown",
   "metadata": {},
   "source": [
    "# Sentencia elif"
   ]
  },
  {
   "cell_type": "code",
   "execution_count": 1,
   "metadata": {},
   "outputs": [
    {
     "name": "stdout",
     "output_type": "stream",
     "text": [
      "x es menor\n"
     ]
    }
   ],
   "source": [
    "#Usando la sentencia elif:\n",
    "x, y = 5, 10\n",
    "if x > y:\n",
    "    print('x es mayor')\n",
    "elif x < y:\n",
    "    print('x es menor')\n",
    "    "
   ]
  },
  {
   "cell_type": "code",
   "execution_count": 3,
   "metadata": {},
   "outputs": [
    {
     "name": "stdout",
     "output_type": "stream",
     "text": [
      "igual\n"
     ]
    }
   ],
   "source": [
    "#Chequeando mas de una sentencia elif:\n",
    "if x > y:\n",
    "    print('x es mayor')\n",
    "elif (x + 10) < y:\n",
    "    print('x es menor')\n",
    "elif (x + 5) == y:\n",
    "    print('igual')\n",
    "    "
   ]
  },
  {
   "cell_type": "code",
   "execution_count": 4,
   "metadata": {},
   "outputs": [
    {
     "name": "stdout",
     "output_type": "stream",
     "text": [
      "x es igual a z\n"
     ]
    }
   ],
   "source": [
    "#Sentencias anidadas\n",
    "x, y, z = 5, 10, 5\n",
    "if x > y:\n",
    "    print('Mayor')\n",
    "elif x <= y:\n",
    "    if x == z:\n",
    "        print('x es igual a z')\n",
    "    elif x != z:\n",
    "        print('x no es igual a z')\n",
    "    "
   ]
  },
  {
   "cell_type": "code",
   "execution_count": 5,
   "metadata": {},
   "outputs": [
    {
     "name": "stdout",
     "output_type": "stream",
     "text": [
      "x es menor que y\n",
      "x es igual a z\n",
      "x es menor que y\n"
     ]
    }
   ],
   "source": [
    "#Probando dos sentencias verdaderas en secuencia con if:\n",
    "if x < y:\n",
    "    print('x es menor que y')\n",
    "if x == z:\n",
    "    print('x es igual a z')#Hace todas las sentencias\n",
    "#Probando dos sentencias verdaderas en secuencia con elif:\n",
    "if x < y:\n",
    "    print('x es menor que y')\n",
    "elif x == z:\n",
    "    print('x es igual a z') #Se rompe el bloque con la primera verdadera"
   ]
  },
  {
   "cell_type": "code",
   "execution_count": 20,
   "metadata": {},
   "outputs": [
    {
     "name": "stdout",
     "output_type": "stream",
     "text": [
      "Ingrese un número: 100.00009999\n",
      "El número es 100\n"
     ]
    }
   ],
   "source": [
    "#Pedir un número y decir si es mayor o menor que 100\n",
    "try:\n",
    "    num = round(float(input('Ingrese un número: ')))\n",
    "    if num == 100:\n",
    "        print('El número es 100')\n",
    "    elif num < 100:\n",
    "        print('El número {} es menor que 100'.format(num))\n",
    "    elif num > 100:\n",
    "        print('El número {} es mayor que 100'.format(num))\n",
    "except:\n",
    "    print('No ingresaste un valor válido')"
   ]
  },
  {
   "cell_type": "code",
   "execution_count": 23,
   "metadata": {
    "scrolled": true
   },
   "outputs": [
    {
     "name": "stdout",
     "output_type": "stream",
     "text": [
      "lower\n"
     ]
    }
   ],
   "source": [
    "x, y = 5, 10\n",
    "if x > y:\n",
    "    print(\"greater\")\n",
    "elif x < y:\n",
    "    print(\"lower\")"
   ]
  },
  {
   "cell_type": "markdown",
   "metadata": {},
   "source": [
    "# Sentencia else"
   ]
  },
  {
   "cell_type": "code",
   "execution_count": 24,
   "metadata": {},
   "outputs": [
    {
     "name": "stdout",
     "output_type": "stream",
     "text": [
      "Hola John\n"
     ]
    }
   ],
   "source": [
    "#Usando la sentencia else:\n",
    "nombre = 'John'\n",
    "if nombre == 'Jacob':\n",
    "    print('Hola Jacob')\n",
    "else:\n",
    "    print('Hola {}'.format(nombre))"
   ]
  },
  {
   "cell_type": "code",
   "execution_count": 26,
   "metadata": {},
   "outputs": [
    {
     "name": "stdout",
     "output_type": "stream",
     "text": [
      "El nombre empieza con P\n"
     ]
    }
   ],
   "source": [
    "#Sentencia condicional completa:\n",
    "nombre = 'Perroflauto'\n",
    "if nombre[0] == 'A':\n",
    "    print('El nombre empieza con A')\n",
    "elif nombre[0] == 'B':\n",
    "    print('El nombre empieza con B')\n",
    "elif nombre[0] == 'J':\n",
    "    print('El nombre empieza con J')\n",
    "else:\n",
    "    print('El nombre empieza con {}'.format(nombre[0]))"
   ]
  },
  {
   "cell_type": "markdown",
   "metadata": {},
   "source": [
    "# Proyecto: Calculadora"
   ]
  },
  {
   "cell_type": "code",
   "execution_count": 28,
   "metadata": {},
   "outputs": [
    {
     "name": "stdout",
     "output_type": "stream",
     "text": [
      "¿Suma/Resta/Multiplicación/División? Suma\n",
      "Escogiste suma.\n"
     ]
    }
   ],
   "source": [
    "#Preguntar la operación a ejecutar:\n",
    "operacion = input('¿Suma/Resta/Multiplicación/División? ').lower()\n",
    "#print('Escogiste {}.'.format(operacion))"
   ]
  },
  {
   "cell_type": "code",
   "execution_count": 29,
   "metadata": {},
   "outputs": [
    {
     "name": "stdout",
     "output_type": "stream",
     "text": [
      "Primer número: 2\n",
      "Segundo número: 4\n"
     ]
    }
   ],
   "source": [
    "#Pedir números. El orden importa para \"resta\" y \"divison\"\n",
    "if operacion == 'resta' or operacion == 'division':\n",
    "    print('Usted escogió {}'.format(operacion))\n",
    "    print('Tenga en cuenta que el orden de los números importa')\n",
    "num1 = input('Primer número: ')\n",
    "num2 = input('Segundo número: ')"
   ]
  },
  {
   "cell_type": "code",
   "execution_count": 31,
   "metadata": {},
   "outputs": [
    {
     "name": "stdout",
     "output_type": "stream",
     "text": [
      "2.0 + 4.0 = 6.0\n"
     ]
    }
   ],
   "source": [
    "#Operación matemática:\n",
    "try:\n",
    "    num1, num2 = float(num1), float(num2)\n",
    "    if operacion == 'suma':\n",
    "        ans = num1 + num2\n",
    "        print('{} + {} = {}'.format(num1, num2, ans))\n",
    "    elif operacion == 'resta':\n",
    "        ans = num1 - num2\n",
    "        print('{} - {} = {}'.format(num1, num2, ans))\n",
    "    elif operacion == 'multiplicacion':\n",
    "        ans = num1*num2\n",
    "        print('{} x {} = {}'.format(num1, num2, ans))\n",
    "    elif operacion == 'division':\n",
    "        ans = num1/num2\n",
    "        print('{} / {} = {}'.format(num1, num2, ans))\n",
    "    else:\n",
    "        print('{} no es una operacion valida'.format(operacion))\n",
    "except:\n",
    "    print('Error: Números inválidos. Intenta de nuevo.')"
   ]
  },
  {
   "cell_type": "code",
   "execution_count": 32,
   "metadata": {},
   "outputs": [
    {
     "name": "stdout",
     "output_type": "stream",
     "text": [
      "¿Suma/Resta/Multiplicación/División? division\n",
      "Usted escogió division\n",
      "Tenga en cuenta que el orden de los números importa\n",
      "Primer número: 35\n",
      "Segundo número: -12.2\n",
      "35.0 / -12.2 = -2.8688524590163937\n"
     ]
    }
   ],
   "source": [
    "#Preguntar la operación a ejecutar:\n",
    "operacion = input('¿Suma/Resta/Multiplicación/División? ').lower()\n",
    "\n",
    "#Pedir números. El orden importa para \"resta\" y \"divison\"\n",
    "if operacion == 'resta' or operacion == 'division':\n",
    "    print('Usted escogió {}'.format(operacion))\n",
    "    print('Tenga en cuenta que el orden de los números importa')\n",
    "num1 = input('Primer número: ')\n",
    "num2 = input('Segundo número: ')\n",
    "\n",
    "#Operación matemática:\n",
    "try:\n",
    "    num1, num2 = float(num1), float(num2)\n",
    "    if operacion == 'suma':\n",
    "        ans = num1 + num2\n",
    "        print('{} + {} = {}'.format(num1, num2, ans))\n",
    "    elif operacion == 'resta':\n",
    "        ans = num1 - num2\n",
    "        print('{} - {} = {}'.format(num1, num2, ans))\n",
    "    elif operacion == 'multiplicacion':\n",
    "        ans = num1*num2\n",
    "        print('{} x {} = {}'.format(num1, num2, ans))\n",
    "    elif operacion == 'division':\n",
    "        ans = num1/num2\n",
    "        print('{} / {} = {}'.format(num1, num2, ans))\n",
    "    else:\n",
    "        print('{} no es una operacion valida'.format(operacion))\n",
    "except:\n",
    "    print('Error: Números inválidos. Intenta de nuevo.')"
   ]
  },
  {
   "cell_type": "code",
   "execution_count": null,
   "metadata": {},
   "outputs": [],
   "source": []
  }
 ],
 "metadata": {
  "kernelspec": {
   "display_name": "Python 3",
   "language": "python",
   "name": "python3"
  },
  "language_info": {
   "codemirror_mode": {
    "name": "ipython",
    "version": 3
   },
   "file_extension": ".py",
   "mimetype": "text/x-python",
   "name": "python",
   "nbconvert_exporter": "python",
   "pygments_lexer": "ipython3",
   "version": "3.7.6"
  }
 },
 "nbformat": 4,
 "nbformat_minor": 4
}
