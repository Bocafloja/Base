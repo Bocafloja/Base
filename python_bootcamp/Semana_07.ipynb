{
 "cells": [
  {
   "cell_type": "markdown",
   "metadata": {},
   "source": [
    "# Creando e instanciando una clase."
   ]
  },
  {
   "cell_type": "code",
   "execution_count": 1,
   "metadata": {},
   "outputs": [],
   "source": [
    "# Creando una clase\n",
    "class carro():\n",
    "    pass"
   ]
  },
  {
   "cell_type": "code",
   "execution_count": 2,
   "metadata": {},
   "outputs": [
    {
     "name": "stdout",
     "output_type": "stream",
     "text": [
      "<__main__.carro object at 0x7f80904ee5d0>\n"
     ]
    }
   ],
   "source": [
    "# Instanciando un objeto de una clase\n",
    "class carro():\n",
    "    pass\n",
    "\n",
    "ford = carro() # Crea una instancia de la clase carro (crea un carro) y lo mete en la variable ford\n",
    "print(ford)"
   ]
  },
  {
   "cell_type": "code",
   "execution_count": 4,
   "metadata": {},
   "outputs": [
    {
     "name": "stdout",
     "output_type": "stream",
     "text": [
      "8761884589497\n",
      "8761884589501\n"
     ]
    }
   ],
   "source": [
    "# Instanciando varios objetos de la misma clase\n",
    "class carro():\n",
    "    pass\n",
    "\n",
    "ford = carro()\n",
    "subaru = carro()\n",
    "\n",
    "print(hash(ford))\n",
    "print(hash(subaru))"
   ]
  },
  {
   "cell_type": "markdown",
   "metadata": {},
   "source": [
    "# Atributos"
   ]
  },
  {
   "cell_type": "code",
   "execution_count": 5,
   "metadata": {},
   "outputs": [
    {
     "name": "stdout",
     "output_type": "stream",
     "text": [
      "rojo\n"
     ]
    }
   ],
   "source": [
    "# Definiendo atributos de una clase\n",
    "class carro():\n",
    "    sonido = 'pi piripipi pi pi'\n",
    "    color = 'rojo'\n",
    "\n",
    "ford = carro()\n",
    "print(ford.color)"
   ]
  },
  {
   "cell_type": "code",
   "execution_count": 6,
   "metadata": {},
   "outputs": [
    {
     "name": "stdout",
     "output_type": "stream",
     "text": [
      "pi piripipi pi pi\n",
      "Beep\n"
     ]
    }
   ],
   "source": [
    "#cambiando el valor de un atributo\n",
    "class carro():\n",
    "    sonido = 'pi piripipi pi pi'\n",
    "    color = 'rojo'\n",
    "\n",
    "ford = carro()\n",
    "\n",
    "print(ford.sonido)\n",
    "ford.sonido = 'Beep'# Se modifica el atributo 'sonido'\n",
    "print(ford.sonido)"
   ]
  },
  {
   "cell_type": "code",
   "execution_count": 8,
   "metadata": {},
   "outputs": [
    {
     "name": "stdout",
     "output_type": "stream",
     "text": [
      "azul\n"
     ]
    }
   ],
   "source": [
    "# Usando el método __init__() para darle atributos personalizados a una instancia\n",
    "class carro():\n",
    "    def __init__(self, color):\n",
    "        self.color = color\n",
    "        \n",
    "ford = carro('azul')\n",
    "print(ford.color)"
   ]
  },
  {
   "cell_type": "code",
   "execution_count": 9,
   "metadata": {},
   "outputs": [
    {
     "name": "stdout",
     "output_type": "stream",
     "text": [
      "azul 2016\n",
      "rojo 2018\n"
     ]
    }
   ],
   "source": [
    "# Definiendo diferentes valores para diferentes instancias\n",
    "class carro():\n",
    "    def __init__(self, color, año):\n",
    "        self.color = color\n",
    "        self.año = año\n",
    "        \n",
    "ford = carro('azul', '2016')\n",
    "subaru = carro('rojo', '2018')\n",
    "\n",
    "print(ford.color, ford.año)\n",
    "print(subaru.color, subaru.año)"
   ]
  },
  {
   "cell_type": "code",
   "execution_count": 13,
   "metadata": {},
   "outputs": [
    {
     "name": "stdout",
     "output_type": "stream",
     "text": [
      "beep\n",
      "beep azul\n"
     ]
    }
   ],
   "source": [
    "# Usando y accediendo atributos de clase globales\n",
    "class carro():\n",
    "    sonido = 'beep'  #Atributo global, accesible a traves de la clase misma\n",
    "    def __init__(self, color):\n",
    "        self.color = 'azul'  # Atributo especifico de instancia, no accesible a traves de la clase misma \n",
    "        \n",
    "print(carro.sonido)\n",
    "#print(carro.color)      #No funciona, color sólo está disponible en instancias de la clase carro, no en la clase misma\n",
    "\n",
    "ford = carro('azul')\n",
    "print(ford.sonido, ford.color)   # Acá ya funciona 'color' porque se llama desde la instancia 'ford'"
   ]
  },
  {
   "cell_type": "markdown",
   "metadata": {},
   "source": [
    "# Métodos"
   ]
  },
  {
   "cell_type": "code",
   "execution_count": 3,
   "metadata": {},
   "outputs": [
    {
     "name": "stdout",
     "output_type": "stream",
     "text": [
      "¡Guau!\n"
     ]
    }
   ],
   "source": [
    "# Son como funciones que tienen las clases\n",
    "class perro():\n",
    "    def ladrar(self):\n",
    "        print('¡Guau!')\n",
    "nita = perro()\n",
    "nita.ladrar()"
   ]
  },
  {
   "cell_type": "code",
   "execution_count": 4,
   "metadata": {},
   "outputs": [
    {
     "name": "stdout",
     "output_type": "stream",
     "text": [
      "¡Guau!\n"
     ]
    }
   ],
   "source": [
    "class perro():\n",
    "    sound = '¡Guau!'\n",
    "    def ladrar(self):\n",
    "        print(self.sound)    #Se requiere 'self' para acceder al atríbuto 'sound'\n",
    "\n",
    "nita = perro()\n",
    "nita.ladrar()"
   ]
  },
  {
   "cell_type": "code",
   "execution_count": 9,
   "metadata": {},
   "outputs": [
    {
     "name": "stdout",
     "output_type": "stream",
     "text": [
      "Yo soy un perro.\n",
      "¡Guau!\n"
     ]
    },
    {
     "ename": "TypeError",
     "evalue": "printInfo() takes 0 positional arguments but 1 was given",
     "output_type": "error",
     "traceback": [
      "\u001b[0;31m---------------------------------------------------------------------------\u001b[0m",
      "\u001b[0;31mTypeError\u001b[0m                                 Traceback (most recent call last)",
      "\u001b[0;32m<ipython-input-9-58babe9224e0>\u001b[0m in \u001b[0;36m<module>\u001b[0;34m\u001b[0m\n\u001b[1;32m      9\u001b[0m \u001b[0mnita\u001b[0m \u001b[0;34m=\u001b[0m \u001b[0mperro\u001b[0m\u001b[0;34m(\u001b[0m\u001b[0;34m)\u001b[0m\u001b[0;34m\u001b[0m\u001b[0;34m\u001b[0m\u001b[0m\n\u001b[1;32m     10\u001b[0m \u001b[0mnita\u001b[0m\u001b[0;34m.\u001b[0m\u001b[0mladrar\u001b[0m\u001b[0;34m(\u001b[0m\u001b[0;34m)\u001b[0m\u001b[0;34m\u001b[0m\u001b[0;34m\u001b[0m\u001b[0m\n\u001b[0;32m---> 11\u001b[0;31m \u001b[0mnita\u001b[0m\u001b[0;34m.\u001b[0m\u001b[0mprintInfo\u001b[0m\u001b[0;34m(\u001b[0m\u001b[0;34m)\u001b[0m\u001b[0;34m\u001b[0m\u001b[0;34m\u001b[0m\u001b[0m\n\u001b[0m",
      "\u001b[0;31mTypeError\u001b[0m: printInfo() takes 0 positional arguments but 1 was given"
     ]
    }
   ],
   "source": [
    "# Entendiendo cuáles métodos son accesibles a travez de la clase misma y las instancias\n",
    "class perro():\n",
    "    sonido = '¡Guau!'\n",
    "    def ladrar(self):\n",
    "        print(self.sonido)\n",
    "    def printInfo():\n",
    "        print('Yo soy un perro.')\n",
    "perro.printInfo() # Se accede desde la clase en sí \n",
    "nita = perro()\n",
    "nita.ladrar()\n",
    "nita.printInfo() # En una instancia no se puede acceder, no posee la palabra 'self'"
   ]
  },
  {
   "cell_type": "code",
   "execution_count": 10,
   "metadata": {},
   "outputs": [
    {
     "name": "stdout",
     "output_type": "stream",
     "text": [
      "2\n"
     ]
    }
   ],
   "source": [
    "# Métodos que aceptan parámetros\n",
    "class perro():\n",
    "    def mostrarEdad(self,edad):\n",
    "        print(edad)    # No es necesario escribir 'self.edad' puesto que es un parámetro, no un atributo\n",
    "        \n",
    "nita = perro()\n",
    "nita.mostrarEdad(2)"
   ]
  },
  {
   "cell_type": "code",
   "execution_count": 11,
   "metadata": {},
   "outputs": [
    {
     "name": "stdout",
     "output_type": "stream",
     "text": [
      "Chavela\n"
     ]
    }
   ],
   "source": [
    "# Métodos para cambiar o obtener valores de atributos, buena práctica\n",
    "class perro():\n",
    "    name = ''\n",
    "    \n",
    "    def setNombre(self, nuevo_nombre):\n",
    "        self.nombre = nuevo_nombre\n",
    "        \n",
    "    def getNombre(self):\n",
    "        return self.nombre\n",
    "    \n",
    "nita = perro()\n",
    "nita.setNombre('Chavela')\n",
    "print(nita.getNombre())"
   ]
  },
  {
   "cell_type": "code",
   "execution_count": 13,
   "metadata": {},
   "outputs": [
    {
     "name": "stdout",
     "output_type": "stream",
     "text": [
      "2\n",
      "3\n"
     ]
    }
   ],
   "source": [
    "# Incrementando/decrementando el valor de un atributo usando métodos, buena práctica\n",
    "class perro():\n",
    "    edad = 2\n",
    "    def cumpleaños(self):\n",
    "        self.edad += 1\n",
    "        \n",
    "nita = perro()\n",
    "print(nita.edad)\n",
    "nita.cumpleaños()\n",
    "print(nita.edad)"
   ]
  },
  {
   "cell_type": "code",
   "execution_count": 14,
   "metadata": {},
   "outputs": [
    {
     "name": "stdout",
     "output_type": "stream",
     "text": [
      "¡Cachorrito!\n"
     ]
    }
   ],
   "source": [
    "# Llamando un método desde otro método\n",
    "class perro():\n",
    "    edad = 2\n",
    "    \n",
    "    def getEdad(self):\n",
    "        return self.edad\n",
    "    \n",
    "    def printInfo(self):\n",
    "        if self.getEdad() < 10:\n",
    "            print('¡Cachorrito!')\n",
    "            \n",
    "nita = perro()\n",
    "nita.printInfo()"
   ]
  },
  {
   "cell_type": "code",
   "execution_count": 15,
   "metadata": {},
   "outputs": [
    {
     "name": "stdout",
     "output_type": "stream",
     "text": [
      "Ésto es una clase perro\n"
     ]
    }
   ],
   "source": [
    "# Los métodos mágicos tienen funciones especiales. Son de la forma __xxx__()\n",
    "# Usando métodos mágicos:\n",
    "\n",
    "class perro():\n",
    "    def __str__(self):      # Es una forma de usar la función 'print()'\n",
    "        return 'Ésto es una clase perro'\n",
    "    \n",
    "nita = perro()\n",
    "print(nita)"
   ]
  },
  {
   "cell_type": "markdown",
   "metadata": {},
   "source": [
    "# Inherencia"
   ]
  },
  {
   "cell_type": "code",
   "execution_count": 17,
   "metadata": {},
   "outputs": [
    {
     "name": "stdout",
     "output_type": "stream",
     "text": [
      "roar\n"
     ]
    },
    {
     "ename": "AttributeError",
     "evalue": "'animal' object has no attribute 'especie'",
     "output_type": "error",
     "traceback": [
      "\u001b[0;31m---------------------------------------------------------------------------\u001b[0m",
      "\u001b[0;31mAttributeError\u001b[0m                            Traceback (most recent call last)",
      "\u001b[0;32m<ipython-input-17-18eed291cbea>\u001b[0m in \u001b[0;36m<module>\u001b[0;34m\u001b[0m\n\u001b[1;32m     10\u001b[0m \u001b[0mnita\u001b[0m\u001b[0;34m.\u001b[0m\u001b[0mmakeSound\u001b[0m\u001b[0;34m(\u001b[0m\u001b[0;34m)\u001b[0m\u001b[0;34m\u001b[0m\u001b[0;34m\u001b[0m\u001b[0m\n\u001b[1;32m     11\u001b[0m \u001b[0mleon\u001b[0m \u001b[0;34m=\u001b[0m \u001b[0manimal\u001b[0m\u001b[0;34m(\u001b[0m\u001b[0;34m)\u001b[0m\u001b[0;34m\u001b[0m\u001b[0;34m\u001b[0m\u001b[0m\n\u001b[0;32m---> 12\u001b[0;31m \u001b[0mleon\u001b[0m\u001b[0;34m.\u001b[0m\u001b[0mespecie\u001b[0m\u001b[0;34m\u001b[0m\u001b[0;34m\u001b[0m\u001b[0m\n\u001b[0m",
      "\u001b[0;31mAttributeError\u001b[0m: 'animal' object has no attribute 'especie'"
     ]
    }
   ],
   "source": [
    "# Inherenciando una clase y accediendo el método inherenciado\n",
    "class animal():\n",
    "    def makeSound(self):\n",
    "        print('roar')\n",
    "        \n",
    "class perro(animal):  # Inherenciando la clase 'animal'\n",
    "    especie = 'canino'\n",
    "    \n",
    "nita = perro()\n",
    "nita.makeSound()\n",
    "leon = animal()\n",
    "leon.especie  # No accesible, especie no está en la clase 'animal'"
   ]
  },
  {
   "cell_type": "code",
   "execution_count": 19,
   "metadata": {},
   "outputs": [
    {
     "name": "stdout",
     "output_type": "stream",
     "text": [
      "canino\n",
      "chavela\n"
     ]
    }
   ],
   "source": [
    "# Usando el método super() para declarar atributos inherenciados\n",
    "class animal():  # Superclase\n",
    "    def __init__(self, especie):\n",
    "        self.especie = especie\n",
    "    \n",
    "class perro(animal):    # Subclase\n",
    "    def __init__(self, especie, nombre):\n",
    "        self.nombre = nombre          # Declara el atributo 'nombre' de la subclase\n",
    "        super().__init__(especie)     # Declara el atributo 'especie' de la superclase\n",
    "        \n",
    "nita = perro('canino', 'chavela') # Instanciado de la subclase 'perro()'\n",
    "print(nita.especie)\n",
    "print(nita.nombre)"
   ]
  },
  {
   "cell_type": "code",
   "execution_count": 21,
   "metadata": {},
   "outputs": [
    {
     "name": "stdout",
     "output_type": "stream",
     "text": [
      "¡Guau!\n",
      "roar\n"
     ]
    }
   ],
   "source": [
    "# Sobrellevando métodos definidos en la superclase\n",
    "class animal():\n",
    "    def hacerSonido(self):\n",
    "        print('roar')\n",
    "class perro(animal):\n",
    "    def hacerSonido(self):   # Sobrelleva el método; lleva el mismo nombre, pero cambia lo que hace\n",
    "        print('¡Guau!')\n",
    "\n",
    "nita, leon = perro(), animal()\n",
    "nita.hacerSonido()\n",
    "leon.hacerSonido()"
   ]
  },
  {
   "cell_type": "code",
   "execution_count": 24,
   "metadata": {},
   "outputs": [
    {
     "name": "stdout",
     "output_type": "stream",
     "text": [
      "9.8 Ford\n"
     ]
    }
   ],
   "source": [
    "# Inherenciando multiples clases\n",
    "class fisica():\n",
    "    gravedad = 9.8\n",
    "\n",
    "class carro():\n",
    "    def __init__(self, make, modelo, año):\n",
    "        self.make, self.modelo, self.año = make, modelo, año\n",
    "        \n",
    "class Ford(fisica, carro):\n",
    "    def __init__(self, modelo, año):   # 'super()' no funciona para éste caso\n",
    "        carro.__init__(self, 'Ford', modelo, año)\n",
    "    \n",
    "camioneta = Ford('F-150', 2018)\n",
    "print(camioneta.gravedad, camioneta.make)"
   ]
  },
  {
   "cell_type": "markdown",
   "metadata": {},
   "source": [
    "# Creando un Blackjack"
   ]
  },
  {
   "cell_type": "code",
   "execution_count": 1,
   "metadata": {},
   "outputs": [],
   "source": [
    "from random import randint\n",
    "from IPython.display import clear_output"
   ]
  },
  {
   "cell_type": "code",
   "execution_count": 2,
   "metadata": {},
   "outputs": [],
   "source": [
    "# Creando la clase del juego\n",
    "class Blackjack():\n",
    "    def __init__(self):\n",
    "        self.mazo = []\n",
    "        self.suits = ('Picas', 'Corazones', 'Diamantes', 'Trebol')\n",
    "        self.values = (2, 3, 4, 5, 6, 7, 8, 9, 10, 'J', 'Q', 'K', 'A')\n",
    "    \n",
    "    def hacerMazo(self):\n",
    "        for suit in self.suits:\n",
    "            for value in self.values:\n",
    "                self.mazo.append((value, suit))\n",
    "                \n",
    "    def sacarCarta(self):\n",
    "        return self.mazo.pop(randint(0, len(self.mazo)-1))"
   ]
  },
  {
   "cell_type": "code",
   "execution_count": 3,
   "metadata": {},
   "outputs": [],
   "source": [
    "class Jugador():\n",
    "    def __init__(self, nombre):\n",
    "        self.nombre = nombre\n",
    "        self.mano = []\n",
    "    \n",
    "    def añadirCarta(self, carta):\n",
    "        self.mano.append(carta)\n",
    "        \n",
    "    def mostrarMano(self, dealer_empieza = True):\n",
    "        print('\\n{}'.format(self.nombre))\n",
    "        print('='*10)\n",
    "        for i in range(len(self.mano)):\n",
    "            if (self.nombre == 'Dealer') and (i == 0) and (dealer_empieza):\n",
    "                print('- de -') # Se tapa la primera carta\n",
    "            else:\n",
    "                carta = self.mano[i]\n",
    "                print('{} de {}'.format(carta[0], carta[1]))\n",
    "    \n",
    "    def calcMano(self, dealer_empieza = True):\n",
    "        total = 0\n",
    "        aces = 0\n",
    "        cartas_valores = {1:1, 2:2, 3:3, 4:4, 5:5, 6:6, 7:7, 8:8, 9:9, 10:10, 'J':10, 'Q':10, 'K':10, 'A':11}\n",
    "        \n",
    "        if self.nombre == 'Dealer' and dealer_empieza:\n",
    "            carta = self.mano[1]\n",
    "            return cartas_valores[ carta[0]]\n",
    "        \n",
    "        for carta in self.mano:\n",
    "            if carta[0] == 'A':\n",
    "                aces += 1\n",
    "            else:\n",
    "                total += cartas_valores[carta[0]]\n",
    "            \n",
    "        for i in range(aces):\n",
    "            if total + 11 > 21:\n",
    "                total += 1\n",
    "            else: \n",
    "                total +=11\n",
    "                \n",
    "        return total"
   ]
  },
  {
   "cell_type": "code",
   "execution_count": 4,
   "metadata": {},
   "outputs": [],
   "source": [
    "def partida(nombre):    \n",
    "    juego = Blackjack()\n",
    "    juego.hacerMazo()\n",
    "\n",
    "    jugador = Jugador(nombre)\n",
    "    dealer = Jugador('Dealer')\n",
    "\n",
    "    for i in range(2):\n",
    "        jugador.añadirCarta(juego.sacarCarta())\n",
    "        dealer.añadirCarta(juego.sacarCarta())\n",
    "\n",
    "    jugador.mostrarMano()\n",
    "    dealer.mostrarMano()\n",
    "\n",
    "    jugador_pasado = False\n",
    "\n",
    "    while input('¿Tomar / quedar?').lower() != 'quedar':\n",
    "        clear_output()\n",
    "        # Darle  carta al jugador\n",
    "        jugador.añadirCarta(juego.sacarCarta())\n",
    "\n",
    "        # Mostrar ambas manos\n",
    "        jugador.mostrarMano()\n",
    "        dealer.mostrarMano()\n",
    "\n",
    "        # Pillar si se pasan de 21\n",
    "        if jugador.calcMano() > 21:\n",
    "            jugador_pasado = True\n",
    "            print('')\n",
    "            print('-'*9)\n",
    "            print('Perdiste.')\n",
    "            print('-'*9)\n",
    "            break\n",
    "\n",
    "    dealer_pasado = False\n",
    "\n",
    "    if not jugador_pasado:\n",
    "        while dealer.calcMano(False) < 17:\n",
    "            clear_output()\n",
    "\n",
    "            dealer.añadirCarta(juego.sacarCarta())\n",
    "\n",
    "            jugador.mostrarMano()\n",
    "            dealer.mostrarMano()\n",
    "\n",
    "            if dealer.calcMano(False) > 21:\n",
    "                dealer_pasado = True\n",
    "                print('')\n",
    "                print('-'*9)\n",
    "                print('Ganaste.')\n",
    "                print('-'*9)\n",
    "                break\n",
    "\n",
    "    clear_output()\n",
    "\n",
    "    jugador.mostrarMano()\n",
    "    dealer.mostrarMano(False)\n",
    "    \n",
    "    if jugador_pasado:\n",
    "        print('Te pasaste.')\n",
    "        return 'b'\n",
    "    elif dealer_pasado:\n",
    "        print('El dealer se pasó.')\n",
    "        return 'a'\n",
    "    elif dealer.calcMano(False) > jugador.calcMano():\n",
    "        print('El dealer tiene cartas mayores, tu pierdes.')\n",
    "        return 'b'\n",
    "    elif dealer.calcMano(False) < jugador.calcMano():\n",
    "        print('Le ganaste al dealer.')\n",
    "        return 'a'\n",
    "    else: \n",
    "        print('Nadie gana')\n",
    "        return None"
   ]
  },
  {
   "cell_type": "code",
   "execution_count": 5,
   "metadata": {},
   "outputs": [],
   "source": [
    "def main():\n",
    "    nombre = input('Ingrese su nombre: ')\n",
    "    opcion = ' '\n",
    "    victorias = 0\n",
    "    derrotas = 0\n",
    "    while opcion != 'salir':\n",
    "        clear_output()\n",
    "        output = partida(nombre)\n",
    "        if output == 'a':\n",
    "            victorias += 1\n",
    "        elif output == 'b':\n",
    "            derrotas += 1\n",
    "        print('\\n\\nVictorias: {}\\nDerrotas: {}'.format(victorias, derrotas))\n",
    "        opcion = input('Jugar otra mano / Salir: ').lower()\n",
    "\n",
    "    clear_output()\n",
    "    print('Saliste del juego.\\n\\nPartidas ganadas: {}\\nPartidas jugadas: {}'.format(victorias, (victorias+derrotas)))"
   ]
  },
  {
   "cell_type": "code",
   "execution_count": 6,
   "metadata": {},
   "outputs": [
    {
     "name": "stdout",
     "output_type": "stream",
     "text": [
      "Saliste del juego.\n",
      "\n",
      "Partidas ganadas: 1\n",
      "Partidas jugadas: 4\n"
     ]
    }
   ],
   "source": [
    "main()"
   ]
  },
  {
   "cell_type": "code",
   "execution_count": null,
   "metadata": {},
   "outputs": [],
   "source": []
  }
 ],
 "metadata": {
  "kernelspec": {
   "display_name": "Python 3",
   "language": "python",
   "name": "python3"
  },
  "language_info": {
   "codemirror_mode": {
    "name": "ipython",
    "version": 3
   },
   "file_extension": ".py",
   "mimetype": "text/x-python",
   "name": "python",
   "nbconvert_exporter": "python",
   "pygments_lexer": "ipython3",
   "version": "3.7.6"
  }
 },
 "nbformat": 4,
 "nbformat_minor": 4
}
