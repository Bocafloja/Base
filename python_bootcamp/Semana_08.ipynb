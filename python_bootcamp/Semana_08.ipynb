{
 "cells": [
  {
   "cell_type": "markdown",
   "metadata": {},
   "source": [
    "# Comprensión de listas"
   ]
  },
  {
   "cell_type": "code",
   "execution_count": 2,
   "metadata": {},
   "outputs": [
    {
     "name": "stdout",
     "output_type": "stream",
     "text": [
      "[1, 2, 3, 4, 5, 6, 7, 8, 9, 10, 11, 12, 13, 14, 15, 16, 17, 18, 19, 20, 21, 22, 23, 24, 25, 26, 27, 28, 29, 30, 31, 32, 33, 34, 35, 36, 37, 38, 39, 40, 41, 42, 43, 44, 45, 46, 47, 48, 49, 50, 51, 52, 53, 54, 55, 56, 57, 58, 59, 60, 61, 62, 63, 64, 65, 66, 67, 68, 69, 70, 71, 72, 73, 74, 75, 76, 77, 78, 79, 80, 81, 82, 83, 84, 85, 86, 87, 88, 89, 90, 91, 92, 93, 94, 95, 96, 97, 98, 99, 100]\n"
     ]
    }
   ],
   "source": [
    "# Generando una lista de números\n",
    "nums = [x+1 for x in range(100)]\n",
    "print(nums)"
   ]
  },
  {
   "cell_type": "code",
   "execution_count": 2,
   "metadata": {},
   "outputs": [
    {
     "name": "stdout",
     "output_type": "stream",
     "text": [
      "[0, 2, 4, 6, 8]\n"
     ]
    }
   ],
   "source": [
    "# Con condiciones 'if'\n",
    "nums = [x for x in range(10) if x%2 == 0]\n",
    "print(nums)"
   ]
  },
  {
   "cell_type": "code",
   "execution_count": 4,
   "metadata": {},
   "outputs": [
    {
     "name": "stdout",
     "output_type": "stream",
     "text": [
      "['par', 'impar', 'par', 'impar', 'par', 'impar', 'par', 'impar', 'par', 'impar']\n"
     ]
    }
   ],
   "source": [
    "# Con 'if-else'\n",
    "nums = ['par' if x%2 == 0 else 'impar' for x in range(10)]\n",
    "print(nums)"
   ]
  },
  {
   "cell_type": "code",
   "execution_count": 6,
   "metadata": {},
   "outputs": [
    {
     "name": "stdout",
     "output_type": "stream",
     "text": [
      "[4, 16, 36, 64]\n"
     ]
    }
   ],
   "source": [
    "nums = [2, 4, 6, 8]\n",
    "nums_cuadrados = [num**2 for num in nums]\n",
    "print(nums_cuadrados)"
   ]
  },
  {
   "cell_type": "code",
   "execution_count": 7,
   "metadata": {},
   "outputs": [
    {
     "name": "stdout",
     "output_type": "stream",
     "text": [
      "{0: 0, 2: 4, 4: 8, 6: 12, 8: 16}\n"
     ]
    }
   ],
   "source": [
    "# Comprensión de diccionarios\n",
    "numeros = [x for x in range(10)]\n",
    "cuadrados = {num : num*2 for num in numeros if num%2 == 0}\n",
    "print(cuadrados)"
   ]
  },
  {
   "cell_type": "markdown",
   "metadata": {},
   "source": [
    "# Funciones anónimas (lambda)"
   ]
  },
  {
   "cell_type": "code",
   "execution_count": 8,
   "metadata": {},
   "outputs": [
    {
     "data": {
      "text/plain": [
       "16"
      ]
     },
     "execution_count": 8,
     "metadata": {},
     "output_type": "execute_result"
    }
   ],
   "source": [
    "# Usando labda para elevar un número al cuadrado\n",
    "(lambda x : x**2)(4)"
   ]
  },
  {
   "cell_type": "code",
   "execution_count": 9,
   "metadata": {},
   "outputs": [
    {
     "data": {
      "text/plain": [
       "50"
      ]
     },
     "execution_count": 9,
     "metadata": {},
     "output_type": "execute_result"
    }
   ],
   "source": [
    "# Pasando múltiples argumentos\n",
    "(lambda x, y : x*y)(10, 5)"
   ]
  },
  {
   "cell_type": "code",
   "execution_count": 11,
   "metadata": {},
   "outputs": [
    {
     "name": "stdout",
     "output_type": "stream",
     "text": [
      "<function <lambda> at 0x7f7e98820b90>\n",
      "50\n"
     ]
    }
   ],
   "source": [
    "# Almacenando una función lambda\n",
    "cuadrado = lambda x, y : x*y\n",
    "print(cuadrado)\n",
    "resultado = cuadrado(10, 5)\n",
    "print(resultado)"
   ]
  },
  {
   "cell_type": "code",
   "execution_count": 12,
   "metadata": {},
   "outputs": [
    {
     "name": "stdout",
     "output_type": "stream",
     "text": [
      "10\n"
     ]
    }
   ],
   "source": [
    "# Uso de condicionales if/else en una función lambda para obtener el número más grande\n",
    "masgrande = lambda x, y : x if x > y else y\n",
    "resultado = masgrande(5, 10)\n",
    "print(resultado)"
   ]
  },
  {
   "cell_type": "code",
   "execution_count": 13,
   "metadata": {},
   "outputs": [
    {
     "name": "stdout",
     "output_type": "stream",
     "text": [
      "10\n",
      "15\n"
     ]
    }
   ],
   "source": [
    "# Entregando una función lambda de otra función\n",
    "def mi_func(n):\n",
    "    return lambda x : x*n\n",
    "\n",
    "doblador = mi_func(2)\n",
    "print(doblador(5))\n",
    "triplicador = mi_func(3)\n",
    "print(triplicador(5))"
   ]
  },
  {
   "cell_type": "markdown",
   "metadata": {},
   "source": [
    "# Map, Reduce y Filter."
   ]
  },
  {
   "cell_type": "code",
   "execution_count": 2,
   "metadata": {},
   "outputs": [
    {
     "name": "stdout",
     "output_type": "stream",
     "text": [
      "<map object at 0x7f5d94595a10>\n",
      "[54.5, 56.480000000000004, 59.0, 48.2, 35.6]\n"
     ]
    }
   ],
   "source": [
    " # Usando map() sin lambdas\n",
    "def Cels2Far(C):\n",
    "    return (9/5)*C + 32\n",
    "temps = [12.5, 13.6, 15, 9,2]\n",
    "temp_convertidas = map(Cels2Far, temps)\n",
    "print(temp_convertidas)\n",
    "temp_convertidas = list(temp_convertidas)\n",
    "print(temp_convertidas)"
   ]
  },
  {
   "cell_type": "code",
   "execution_count": 3,
   "metadata": {},
   "outputs": [
    {
     "name": "stdout",
     "output_type": "stream",
     "text": [
      "[54.5, 56.480000000000004, 59.0, 48.2, 35.6]\n"
     ]
    }
   ],
   "source": [
    "# Map() con lambdas\n",
    "temps = [12.5, 13.6, 15, 9,2]\n",
    "temp_convertidas = list(map(lambda C : (9/5)*C + 32, temps))\n",
    "print(temp_convertidas)"
   ]
  },
  {
   "cell_type": "code",
   "execution_count": 7,
   "metadata": {},
   "outputs": [
    {
     "name": "stdout",
     "output_type": "stream",
     "text": [
      "<filter object at 0x7f5d7f9e2c50>\n",
      "[13.6, 15]\n"
     ]
    }
   ],
   "source": [
    "# Uso de la función filter()\n",
    "def filterTemps(C):\n",
    "    convertido = (9/5)*C + 32\n",
    "    return True if convertido > 55 else False\n",
    "temps = [12.5, 13.6, 15, 9,2]\n",
    "temps_filtradas = filter(filterTemps, temps)\n",
    "print(temps_filtradas)\n",
    "temps_filtradas = list(temps_filtradas)\n",
    "print(temps_filtradas)"
   ]
  },
  {
   "cell_type": "code",
   "execution_count": 1,
   "metadata": {},
   "outputs": [
    {
     "name": "stdout",
     "output_type": "stream",
     "text": [
      "[13.6, 15]\n"
     ]
    }
   ],
   "source": [
    "# filter() con lambdas\n",
    "temps = [12.5, 13.6, 15, 9.2]\n",
    "filtered_temps = list(filter(lambda C : True if ((9/5)*C + 32) > 55 else False, temps))\n",
    "print(filtered_temps)"
   ]
  },
  {
   "cell_type": "code",
   "execution_count": 2,
   "metadata": {},
   "outputs": [
    {
     "name": "stdout",
     "output_type": "stream",
     "text": [
      "24\n"
     ]
    }
   ],
   "source": [
    "# Uso de reduce()\n",
    "from functools import reduce\n",
    "nums = [1, 2, 3, 4]\n",
    "result = reduce(lambda a, b : a*b, nums) # Acumula la multiplicación del anterior con el siguiente elemento de la lista\n",
    "print(result)"
   ]
  },
  {
   "cell_type": "markdown",
   "metadata": {},
   "source": [
    "# Funciones recursivas y memoización"
   ]
  },
  {
   "cell_type": "code",
   "execution_count": 3,
   "metadata": {},
   "outputs": [
    {
     "name": "stdout",
     "output_type": "stream",
     "text": [
      "120\n"
     ]
    }
   ],
   "source": [
    "# Escribiendo un factorial usando funciones recursivas\n",
    "def factorial(n):\n",
    "    if n <= 1:\n",
    "        return 1  # Caso base, el que cierra el ciclo\n",
    "    else:\n",
    "        return factorial(n - 1)*n\n",
    "\n",
    "print(factorial(5))"
   ]
  },
  {
   "cell_type": "code",
   "execution_count": 7,
   "metadata": {},
   "outputs": [
    {
     "name": "stdout",
     "output_type": "stream",
     "text": [
      "102334155\n"
     ]
    }
   ],
   "source": [
    "# Escribiendo la función Fibonacci recursiva\n",
    "def fib(n):\n",
    "    if n <= 1:\n",
    "        return n\n",
    "    else:\n",
    "        return fib(n - 1) + fib(n - 2)\n",
    "\n",
    "print(fib(40))  # Usa mucho recurso de máquina. Ralentiza el CPU"
   ]
  },
  {
   "cell_type": "code",
   "execution_count": 1,
   "metadata": {},
   "outputs": [
    {
     "name": "stdout",
     "output_type": "stream",
     "text": [
      "12586269025\n"
     ]
    }
   ],
   "source": [
    "# Uso de la memoización\n",
    "cache = {}\n",
    "def fib(n):\n",
    "    if n in cache:\n",
    "        return cache[n]\n",
    "    result = 0\n",
    "     # Caso base\n",
    "    if n <= 1:\n",
    "        result = n\n",
    "    else:\n",
    "        result = fib(n - 1) + fib(n - 2)\n",
    "    cache[n] = result\n",
    "    return result\n",
    "\n",
    "print(fib(50))"
   ]
  },
  {
   "cell_type": "code",
   "execution_count": 2,
   "metadata": {},
   "outputs": [
    {
     "data": {
      "text/plain": [
       "12586269025"
      ]
     },
     "execution_count": 2,
     "metadata": {},
     "output_type": "execute_result"
    }
   ],
   "source": [
    "# Usando @lru_cache\n",
    "from functools import lru_cache\n",
    "@lru_cache()\n",
    "def fib(n):\n",
    "    if n <= 1:\n",
    "        return n\n",
    "    else:\n",
    "        return fib(n- 1) + fib(n - 2)\n",
    "\n",
    "fib(50)"
   ]
  },
  {
   "cell_type": "markdown",
   "metadata": {},
   "source": [
    "# Búsqueda binaria"
   ]
  },
  {
   "cell_type": "code",
   "execution_count": 6,
   "metadata": {},
   "outputs": [
    {
     "data": {
      "text/plain": [
       "False"
      ]
     },
     "execution_count": 6,
     "metadata": {},
     "output_type": "execute_result"
    }
   ],
   "source": [
    "\"\"\"El algoritmo es:\n",
    "1. Organizar la lista.\n",
    "2. Encontrar el índice del medio.\n",
    "3. Revisar el valor del índice del medio, si es el buscado, devolver True\n",
    "4. Si el valor buscado es mayor que el del íncide de la mitad, \n",
    "   cortar la mitad inferior de la lista.\n",
    "5. Si el valor buscado es menor que el del índice de la mitad,\n",
    "   cortar la mitad superior de la lista.\n",
    "6. repetir pasos 2 al 6 hasta que la lista esté vacía.\n",
    "7. Si el ciclo while acaba, significa que no quedan mas items, \n",
    "   entonces devolver False\"\"\"\n",
    "\n",
    "import random\n",
    "# Una lista de 10 números entre el 0 y 20\n",
    "nums = [random.randint(0, 20) for i in range(10)]\n",
    "\n",
    "def busquedaBinaria(lista, num):\n",
    "    lista.sort()\n",
    "    while lista:\n",
    "        mid = len(lista) // 2 #Doble '/' hace que la división redondee al número entero anterior\n",
    "        if lista[mid] == num:\n",
    "            return True\n",
    "        elif lista[mid] > num:\n",
    "            lista = lista[:mid]\n",
    "        elif lista[mid] < num:\n",
    "            lista = lista[mid + 1:]\n",
    "    return False\n",
    "\n",
    "busquedaBinaria(nums, 4)"
   ]
  },
  {
   "cell_type": "code",
   "execution_count": null,
   "metadata": {},
   "outputs": [],
   "source": []
  }
 ],
 "metadata": {
  "kernelspec": {
   "display_name": "Python 3",
   "language": "python",
   "name": "python3"
  },
  "language_info": {
   "codemirror_mode": {
    "name": "ipython",
    "version": 3
   },
   "file_extension": ".py",
   "mimetype": "text/x-python",
   "name": "python",
   "nbconvert_exporter": "python",
   "pygments_lexer": "ipython3",
   "version": "3.7.6"
  }
 },
 "nbformat": 4,
 "nbformat_minor": 4
}
