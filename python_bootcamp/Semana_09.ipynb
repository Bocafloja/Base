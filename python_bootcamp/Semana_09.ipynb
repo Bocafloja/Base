{
 "cells": [
  {
   "cell_type": "markdown",
   "metadata": {},
   "source": [
    "# Generadores e iteradores"
   ]
  },
  {
   "cell_type": "code",
   "execution_count": 5,
   "metadata": {},
   "outputs": [
    {
     "name": "stdout",
     "output_type": "stream",
     "text": [
      "baseball\n",
      "futbol\n",
      "soccer\n",
      "hockey\n",
      "basketball\n"
     ]
    },
    {
     "ename": "StopIteration",
     "evalue": "",
     "output_type": "error",
     "traceback": [
      "\u001b[0;31m---------------------------------------------------------------------------\u001b[0m",
      "\u001b[0;31mStopIteration\u001b[0m                             Traceback (most recent call last)",
      "\u001b[0;32m<ipython-input-5-d09f818c639c>\u001b[0m in \u001b[0;36m<module>\u001b[0;34m\u001b[0m\n\u001b[1;32m      6\u001b[0m \u001b[0;32mfor\u001b[0m \u001b[0mitem\u001b[0m \u001b[0;32min\u001b[0m \u001b[0mmi_iter\u001b[0m\u001b[0;34m:\u001b[0m\u001b[0;34m\u001b[0m\u001b[0;34m\u001b[0m\u001b[0m\n\u001b[1;32m      7\u001b[0m     \u001b[0mprint\u001b[0m\u001b[0;34m(\u001b[0m\u001b[0mitem\u001b[0m\u001b[0;34m)\u001b[0m\u001b[0;34m\u001b[0m\u001b[0;34m\u001b[0m\u001b[0m\n\u001b[0;32m----> 8\u001b[0;31m \u001b[0mprint\u001b[0m\u001b[0;34m(\u001b[0m\u001b[0mnext\u001b[0m\u001b[0;34m(\u001b[0m\u001b[0mmi_iter\u001b[0m\u001b[0;34m)\u001b[0m\u001b[0;34m)\u001b[0m\u001b[0;34m\u001b[0m\u001b[0;34m\u001b[0m\u001b[0m\n\u001b[0m",
      "\u001b[0;31mStopIteration\u001b[0m: "
     ]
    }
   ],
   "source": [
    "# Creando un iterador básico de un iterable\n",
    "deportes = ['baseball', 'futbol', 'soccer', 'hockey', 'basketball']\n",
    "mi_iter = iter(deportes)\n",
    "print( next(mi_iter))\n",
    "print( next(mi_iter))\n",
    "for item in mi_iter:\n",
    "    print(item)\n",
    "print(next(mi_iter)) # Da error porque se acabaron los items en la lista"
   ]
  },
  {
   "cell_type": "code",
   "execution_count": 7,
   "metadata": {},
   "outputs": [
    {
     "name": "stdout",
     "output_type": "stream",
     "text": [
      "a b c d e f g h i j k l m n o p q r s t u v w x y z "
     ]
    }
   ],
   "source": [
    "# Creando un iterador\n",
    "class alfabeto():\n",
    "    def __iter__(self): # Se declaran los valores iniciales del iterador\n",
    "        self.letters = 'abcdefghijklmnopqrstuvwxyz'\n",
    "        self.index = 0\n",
    "        return self     # Siempre finaliza con return self\n",
    "    def __next__(self): # Acá se define cómo itera\n",
    "        if self.index <= 25:\n",
    "            char = self.letters[self.index]\n",
    "            self.index += 1\n",
    "            return char\n",
    "        else:\n",
    "            raise StopIteration  # Tira el error de que ya no hay mas items\n",
    "            \n",
    "for char in alfabeto():\n",
    "    print(char, end=' ')"
   ]
  },
  {
   "cell_type": "code",
   "execution_count": 9,
   "metadata": {},
   "outputs": [
    {
     "name": "stdout",
     "output_type": "stream",
     "text": [
      "Valor inicial del generador: 0\n",
      "valor de x: 0\n",
      "Valor inicial del generador: 1\n",
      "valor de x: 1\n",
      "Valor inicial del generador: 2\n",
      "valor de x: 2\n",
      "Valor inicial del generador: 3\n",
      "valor de x: 3\n",
      "Valor inicial del generador: 4\n",
      "valor de x: 4\n"
     ]
    }
   ],
   "source": [
    "# Creando mi propio generador range personalizado\n",
    "def miRange(stop, start=0, paso=1):\n",
    "    while start < stop:\n",
    "        print('Valor inicial del generador: {}'.format(start))\n",
    "        yield start\n",
    "        start += paso\n",
    "\n",
    "for x in miRange(5):\n",
    "    print('valor de x: {}'.format(x))"
   ]
  },
  {
   "cell_type": "code",
   "execution_count": 24,
   "metadata": {},
   "outputs": [
    {
     "name": "stdout",
     "output_type": "stream",
     "text": [
      "10 9 8 7 6 5 4 3 2 1 "
     ]
    }
   ],
   "source": [
    "# Un iterador que reciba una lista y la itere de fin a inicio\n",
    "class RevIter():\n",
    "    \n",
    "    def __init__(self, lista):\n",
    "        self.lista = lista\n",
    "        \n",
    "    def __iter__(self):\n",
    "        self.index = int(len(self.lista) - 1)\n",
    "        return self\n",
    "    \n",
    "    def __next__(self):\n",
    "        if self.index >= 0:\n",
    "            Nlista = self.lista[self.index]\n",
    "            self.index -= 1\n",
    "            return Nlista          \n",
    "        else:\n",
    "            raise StopIteration\n",
    "            \n",
    "lista = [1, 2, 3, 4, 5, 6, 7, 8, 9, 10] \n",
    "\n",
    "for i in RevIter(lista):\n",
    "    \n",
    "    print(i, end=' ')"
   ]
  },
  {
   "cell_type": "markdown",
   "metadata": {},
   "source": [
    "# Decoradores "
   ]
  },
  {
   "cell_type": "code",
   "execution_count": 31,
   "metadata": {},
   "outputs": [
    {
     "name": "stdout",
     "output_type": "stream",
     "text": [
      "==========\n",
      "John!\n",
      "==========\n"
     ]
    }
   ],
   "source": [
    "# Creando decoradores (funciones de alto orden, funciones de funciones)\n",
    "def decorator(func):\n",
    "    def wrap():\n",
    "        print('='*10)\n",
    "        func()\n",
    "        print('='*10)\n",
    "    return wrap\n",
    "\n",
    "@decorator     # Acá se le asigna la función 'func()' al decorador\n",
    "def printnombre():\n",
    "    print('John!')\n",
    "\n",
    "printnombre()"
   ]
  },
  {
   "cell_type": "code",
   "execution_count": 29,
   "metadata": {},
   "outputs": [
    {
     "name": "stdout",
     "output_type": "stream",
     "text": [
      "¡Hola!\n",
      "¡Hola!\n",
      "¡Hola!\n",
      "¡Hola!\n"
     ]
    }
   ],
   "source": [
    "# Decoradores con parámetros\n",
    "def run_times(num):\n",
    "    def wrap(func):\n",
    "        for i in range(num):\n",
    "            func()\n",
    "    return wrap\n",
    "\n",
    "@run_times(4)\n",
    "def decirHola():\n",
    "    print('¡Hola!')\n",
    "    \n"
   ]
  },
  {
   "cell_type": "code",
   "execution_count": 32,
   "metadata": {},
   "outputs": [
    {
     "name": "stdout",
     "output_type": "stream",
     "text": [
      "Feliz cumpleaños Paul, ahora tienes 44.\n"
     ]
    }
   ],
   "source": [
    "# Funciones con decoradores y parámetros\n",
    "def cumpleaños(func):\n",
    "    def wrap(nombre, edad):\n",
    "        func(nombre, edad + 1)\n",
    "    return wrap\n",
    "\n",
    "@cumpleaños\n",
    "def celebrar(nombre, edad):\n",
    "    print('Feliz cumpleaños {}, ahora tienes {}.'.format(nombre, edad))\n",
    "\n",
    "celebrar('Paul', 43)"
   ]
  },
  {
   "cell_type": "code",
   "execution_count": 37,
   "metadata": {},
   "outputs": [
    {
     "name": "stdout",
     "output_type": "stream",
     "text": [
      "¿Cuál es la contraseña? payaso\n",
      "Bienvenido Bocafloja\n"
     ]
    }
   ],
   "source": [
    "# Función de restricción de acceso\n",
    "def login_requerido(func):\n",
    "    def wrap(usuario):\n",
    "        contraseña = input('¿Cuál es la contraseña? ')\n",
    "        if contraseña == usuario['contraseña']:\n",
    "            func(usuario)\n",
    "        else:\n",
    "            print('Acceso denegado')\n",
    "    return wrap\n",
    "\n",
    "@login_requerido\n",
    "def FuncionRestringida(usuario):\n",
    "    print('Bienvenido {}'.format(usuario['nombre']))\n",
    "    \n",
    "usuario = {'nombre':'Bocafloja', 'contraseña':'payaso'}\n",
    "FuncionRestringida(usuario)"
   ]
  },
  {
   "cell_type": "markdown",
   "metadata": {},
   "source": [
    "# Módulos"
   ]
  },
  {
   "cell_type": "code",
   "execution_count": 38,
   "metadata": {},
   "outputs": [
    {
     "name": "stdout",
     "output_type": "stream",
     "text": [
      "2\n",
      "3\n",
      "3.141592653589793\n"
     ]
    }
   ],
   "source": [
    "# Importando el módulo math\n",
    "import math\n",
    "print(math.floor(2.5)) # Redondea por encima\n",
    "print(math.ceil(2.5))  # Redondea por debajo\n",
    "print(math.pi)"
   ]
  },
  {
   "cell_type": "code",
   "execution_count": 42,
   "metadata": {},
   "outputs": [
    {
     "name": "stdout",
     "output_type": "stream",
     "text": [
      "2\n",
      "3.141592653589793\n",
      "3\n"
     ]
    }
   ],
   "source": [
    "from math import floor, pi\n",
    "print(floor(2.5))\n",
    "print(pi)\n",
    "#print(ceil(2.5)) # Tira error porque no se ha invocado\n",
    "print(math.ceil(2.5))"
   ]
  },
  {
   "cell_type": "code",
   "execution_count": 43,
   "metadata": {},
   "outputs": [
    {
     "name": "stdout",
     "output_type": "stream",
     "text": [
      "2\n"
     ]
    }
   ],
   "source": [
    "# Importando con alias\n",
    "from math import floor as f\n",
    "print(f(2.5))"
   ]
  },
  {
   "cell_type": "code",
   "execution_count": 49,
   "metadata": {
    "scrolled": true
   },
   "outputs": [
    {
     "name": "stdout",
     "output_type": "stream",
     "text": [
      "5 10\n",
      "JuanReyes is 37 years old.\n"
     ]
    }
   ],
   "source": [
    "# Para acceder a módulos personalizados con Jupyter Notebook\n",
    "%run test.py   # En un IDE se usa \"from test import length, width, printInfo\n",
    "print(length, width)\"\n",
    "printInfo(\"JuanReyes\", 37)"
   ]
  },
  {
   "cell_type": "markdown",
   "metadata": {},
   "source": [
    "# Comprendiendo la complejidad algoritmica"
   ]
  },
  {
   "cell_type": "code",
   "execution_count": 50,
   "metadata": {},
   "outputs": [],
   "source": [
    "# Creando las colecciones de datos para la prueba de complejidad\n",
    "import time\n",
    "d = {}\n",
    "for i in range(10000000): \n",
    "    d[i] = 'valor'\n",
    "    \n",
    "lista_grande = [x for x in range(10000000)]"
   ]
  },
  {
   "cell_type": "code",
   "execution_count": 51,
   "metadata": {},
   "outputs": [
    {
     "name": "stdout",
     "output_type": "stream",
     "text": [
      "Encontrado en diccionario\n",
      "Tiempo empleado por el diccionario: 0.010829687118530273\n",
      "Encontrado en lista\n",
      "Tiempo empleado por la lista: 0.17081785202026367\n"
     ]
    }
   ],
   "source": [
    "# ¿Cuánto tiempo dura en  llegar hasta el último elemento?\n",
    "start_time = time.time() # Tiempo del diccionario\n",
    "if 9999999 in d:\n",
    "    print('Encontrado en diccionario')\n",
    "end_time = time.time() - start_time\n",
    "print('Tiempo empleado por el diccionario: {}'.format(end_time))\n",
    "\n",
    "start_time = time.time() # Tiempo de la lista\n",
    "if 9999999 in lista_grande:\n",
    "    print('Encontrado en lista')\n",
    "end_time = time.time() - start_time\n",
    "print('Tiempo empleado por la lista: {}'.format(end_time))\n"
   ]
  },
  {
   "cell_type": "code",
   "execution_count": 53,
   "metadata": {},
   "outputs": [],
   "source": [
    "# Competencia de algoritmos: Bubble sort vs. Insertion sort\n",
    "def bubbleSort(unaLista):\n",
    "    for i in range(len(unaLista)):\n",
    "        cambiados = False\n",
    "        for j in range(len(unaLista) - 1):\n",
    "            if unaLista[j] > unaLista[j + 1]:\n",
    "                unaLista[j], unaLista[j + 1] = unaLista[j + 1], unaLista[j]\n",
    "                cambiados = True\n",
    "        if cambiados == False:\n",
    "            break\n",
    "    return unaLista\n",
    "\n",
    "def insertionSort(unaLista):\n",
    "    for i in range(1, len(unaLista)):\n",
    "        if unaLista[i] < unaLista[i - 1]:\n",
    "            for j in range(i, 0, -1):\n",
    "                if unaLista[j] < unaLista[j - 1]:\n",
    "                    unaLista[j], unaLista[j + 1] = unaLista[j + 1], unaLista[j]\n",
    "                else:\n",
    "                    break\n",
    "    return unaLista"
   ]
  },
  {
   "cell_type": "code",
   "execution_count": 55,
   "metadata": {},
   "outputs": [
    {
     "name": "stdout",
     "output_type": "stream",
     "text": [
      "Timpo del Bubble Sort: 4.457453966140747\n",
      "Tiempo del Insertion Sort: 0.0006890296936035156\n"
     ]
    }
   ],
   "source": [
    "from random import randint\n",
    "nums = [randint(0, 100) for x in range(5000)]\n",
    "start_time = time.time()  # Tomando el tiempo para el bubble sort\n",
    "bubbleSort(nums)\n",
    "end_time = time.time() - start_time\n",
    "print('Timpo del Bubble Sort: {}'.format(end_time))\n",
    "start_time = time.time()  # Tomando el tiempo para el insertion sort\n",
    "insertionSort(nums)\n",
    "end_time = time.time() - start_time\n",
    "print('Tiempo del Insertion Sort: {}'.format(end_time))"
   ]
  },
  {
   "cell_type": "code",
   "execution_count": null,
   "metadata": {},
   "outputs": [],
   "source": []
  }
 ],
 "metadata": {
  "kernelspec": {
   "display_name": "Python 3",
   "language": "python",
   "name": "python3"
  },
  "language_info": {
   "codemirror_mode": {
    "name": "ipython",
    "version": 3
   },
   "file_extension": ".py",
   "mimetype": "text/x-python",
   "name": "python",
   "nbconvert_exporter": "python",
   "pygments_lexer": "ipython3",
   "version": "3.7.6"
  }
 },
 "nbformat": 4,
 "nbformat_minor": 4
}
