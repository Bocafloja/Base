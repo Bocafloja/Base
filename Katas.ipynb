{
  "nbformat": 4,
  "nbformat_minor": 0,
  "metadata": {
    "colab": {
      "name": "Katas",
      "provenance": [],
      "authorship_tag": "ABX9TyOA8T+mmNtjAUuoHphHXjT8",
      "include_colab_link": true
    },
    "kernelspec": {
      "name": "python3",
      "display_name": "Python 3"
    }
  },
  "cells": [
    {
      "cell_type": "markdown",
      "metadata": {
        "id": "view-in-github",
        "colab_type": "text"
      },
      "source": [
        "<a href=\"https://colab.research.google.com/github/Bocafloja/Base/blob/master/Katas.ipynb\" target=\"_parent\"><img src=\"https://colab.research.google.com/assets/colab-badge.svg\" alt=\"Open In Colab\"/></a>"
      ]
    },
    {
      "cell_type": "code",
      "metadata": {
        "id": "dF-HreVgnJF0",
        "colab_type": "code",
        "colab": {
          "base_uri": "https://localhost:8080/",
          "height": 36
        },
        "outputId": "8f9c63b7-bb11-43b0-bf25-13f84994f1c2"
      },
      "source": [
        "def spin_words(sentence):\n",
        "    return ' '.join([palabra[::-1] if len(palabra)>=5 else palabra for palabra in sentence.split()])\n",
        "                  # x[::-1] recorre una lista o un string de atrás hacia adelante\n",
        "spin_words('Las palabras con 5 o más carácteres serán invertidas')"
      ],
      "execution_count": 6,
      "outputs": [
        {
          "output_type": "execute_result",
          "data": {
            "application/vnd.google.colaboratory.intrinsic": {
              "type": "string"
            },
            "text/plain": [
              "'Las sarbalap con 5 o más seretcárac náres saditrevni'"
            ]
          },
          "metadata": {
            "tags": []
          },
          "execution_count": 6
        }
      ]
    },
    {
      "cell_type": "code",
      "metadata": {
        "id": "phzaKKI3OCXj",
        "colab_type": "code",
        "colab": {
          "base_uri": "https://localhost:8080/",
          "height": 54
        },
        "outputId": "48757714-518d-431b-a1f6-bf0ed16ce9e5"
      },
      "source": [
        "from re import sub     # Módulo de funciones regulares.  toma un patrón '[a-m]' y si algún objeto de s está en el patrón, lo reemplaza por ''\n",
        "def printer_error(s):                                         # Sub(patróm, reemplazo, listaObjetivo)\n",
        "    return \"{}/{}\".format(len(sub(\"[a-m]\",'',s)),len(s))  \n",
        "\n",
        "printer_error('sdasaasggfdddddd')"
      ],
      "execution_count": 5,
      "outputs": [
        {
          "output_type": "stream",
          "text": [
            "[a-m]\n"
          ],
          "name": "stdout"
        },
        {
          "output_type": "execute_result",
          "data": {
            "application/vnd.google.colaboratory.intrinsic": {
              "type": "string"
            },
            "text/plain": [
              "'3/16'"
            ]
          },
          "metadata": {
            "tags": []
          },
          "execution_count": 5
        }
      ]
    },
    {
      "cell_type": "code",
      "metadata": {
        "id": "wpsiEAWz-GqB",
        "colab_type": "code",
        "colab": {}
      },
      "source": [
        ""
      ],
      "execution_count": null,
      "outputs": []
    }
  ]
}